{
 "cells": [
  {
   "cell_type": "markdown",
   "metadata": {},
   "source": [
    "![](fig/univ.png)\n",
    "\n",
    "# AI-1: ML/AI Basics\n",
    "## Homework 3: Logistic Regression & Classification\n",
    "\n",
    "**AI1 Cohort 1**<br/>\n",
    "**Univ.AI**<br/>\n",
    "**Instructor**: Pavlos Protopapas<br />\n",
    "**Maximum Score**: 125\n",
    "\n",
    "<hr style=\"height:2.4pt\">"
   ]
  },
  {
   "cell_type": "code",
   "execution_count": 43,
   "metadata": {
    "ExecuteTime": {
     "end_time": "2020-10-11T09:59:54.472291Z",
     "start_time": "2020-10-11T09:59:54.447018Z"
    }
   },
   "outputs": [],
   "source": [
    "# Importing the necessary libraries\n",
    "import numpy as np\n",
    "import pandas as pd\n",
    "\n",
    "from sklearn.linear_model import LogisticRegression\n",
    "from sklearn.linear_model import LogisticRegressionCV\n",
    "from sklearn.linear_model import LassoCV\n",
    "\n",
    "from sklearn.model_selection import cross_val_score\n",
    "from sklearn.metrics import accuracy_score\n",
    "from sklearn.model_selection import KFold\n",
    "from sklearn.preprocessing import MinMaxScaler\n",
    "from sklearn.model_selection import train_test_split\n",
    "\n",
    "from sklearn.neighbors import KNeighborsClassifier\n",
    "# from prettytable import PrettyTable\n",
    "\n",
    "import matplotlib\n",
    "import matplotlib.pyplot as plt\n",
    "%matplotlib inline\n",
    "\n",
    "import seaborn as sns\n",
    "sns.set()\n",
    "\n",
    "from sklearn.metrics import confusion_matrix, roc_curve\n"
   ]
  },
  {
   "cell_type": "markdown",
   "metadata": {},
   "source": [
    "<hr style=\"height:2pt\">\n",
    "\n",
    "<h2> INSTRUCTIONS </h2>\n",
    "\n",
    "\n",
    "- This homework is a jupyter notebook. Download and work on it in your local machine.\n",
    "\n",
    "- This homework should be submitted in pairs.\n",
    "\n",
    "- Ensure you and your partner together have submitted the homework only once. Multiple submissions of the same work will be penalised and will cost you 2 points.\n",
    "\n",
    "- Please restart the kernel and run the entire notebook again before you submit.\n",
    "\n",
    "- Running cells out of order is a common pitfall in Jupyter Notebooks. To make sure your code works restart the kernel and run the whole notebook again before you submit. \n",
    "\n",
    "- To submit the homework, either one of you upload the working notebook on edStem and click the submit button on the bottom right corner.\n",
    "\n",
    "- Submit the homework well before the given deadline. Submissions after the deadline will not be graded.\n",
    "\n",
    "- We have tried to include all the libraries you may need to do the assignment in the imports statement at the top of this notebook. We strongly suggest that you use those and not others as we may not be familiar with them.\n",
    "\n",
    "- Comment your code well. This would help the graders in case there is any issue with the notebook while running. It is important to remember that the graders will not troubleshoot your code. \n",
    "\n",
    "- Please use .head() when viewing data. Do not submit a notebook that is **excessively long**. \n",
    "\n",
    "- In questions that require code to answer, such as \"calculate the $R^2$\", do not just output the value from a cell. Write a `print()` function that includes a reference to the calculated value, **not hardcoded**. For example: \n",
    "```\n",
    "print(f'The R^2 is {R:.4f}')\n",
    "```\n",
    "- Your plots should include clear labels for the $x$ and $y$ axes as well as a descriptive title (\"MSE plot\" is not a descriptive title; \"95 % confidence interval of coefficients of polynomial degree 5\" is).\n",
    "\n",
    "<hr style=\"height:2pt\">"
   ]
  },
  {
   "cell_type": "markdown",
   "metadata": {},
   "source": [
    "### Names of the people who worked on this homework together\n",
    "#### /names here/"
   ]
  },
  {
   "cell_type": "markdown",
   "metadata": {},
   "source": [
    "<h2> Overview </h2> \n",
    "\n",
    "This assignment is the first where you will go through the process of loading a dataset, splitting it in train,validation and test sets, pre-processing it, and finally using it to run models and evaluating your results. \n",
    "\n",
    "We have two different datasets, one with gene data from a cancer study in **Part A** and another with the COMPAS data in **Part B**.\n"
   ]
  },
  {
   "cell_type": "markdown",
   "metadata": {},
   "source": [
    "<div class=\"alert alert-block alert-danger\" style=\"color:black;background-color:#EFF8D0\">\n",
    "<h2 style=\"color:black;background-color:#EFF8D0\"> Part A: Cancer Classification from Gene Expressions [45 points total] </h2>    <br />\n",
    "\n",
    "In this problem, we will build a classification model to distinguish between two related classes of cancer, acute lymphoblastic leukemia (ALL) and acute myeloid leukemia (AML), using gene expression measurements. The dataset is provided in the file `data/cancer_genes.csv`. Each row in this file corresponds to a tumor tissue sample from a patient with one of the two forms of Leukemia. The column `Cancer_type` gives the types of cancer, with **0 indicating the ALL** class and **1 indicating the AML** class. Columns 2-7130 contain expression levels of 7129 genes recorded from each tissue sample. \n",
    "\n",
    "In the following questions, we will use logistic regression to build classification models for this data set. "
   ]
  },
  {
   "cell_type": "markdown",
   "metadata": {},
   "source": [
    "<div class=\"alert alert-block alert-danger\" style=\"color:black;background-color:#EFF8D0\">\n",
    "    \n",
    "**Question 1: Setting up the problem and understanding the dataset [5 points]** \n",
    "\n",
    "To reach the goal of classification of the classes of cancer, start by inspecting the dataset.\n",
    "\n",
    "**1.1** [1pt] Load the dataset and split the data into an approximate 80-20 train-test sets. <br /><br />\n",
    "**1.2** [2pts] Take a peek at your training set: you should notice the severe differences in the measurements from one gene to the next (some are negative, some hover around zero, and some are well into the thousands). To account for these differences in scale and variability, normalize each predictor to vary between 0 and 1. \n",
    "<br />**NOTE: for the entirety of this homework assignment associated with this dataset, you will use these normalized values, not the original, raw values.** <br/><br />\n",
    "**1.3** [2pts] The training set contains more predictors than observations. What problem(s) can this lead to in fitting a classification model to such a dataset? Explain in 3 or fewer sentences. <br /><br />\n"
   ]
  },
  {
   "cell_type": "markdown",
   "metadata": {},
   "source": [
    "## Solutions "
   ]
  },
  {
   "cell_type": "markdown",
   "metadata": {},
   "source": [
    "### 1.1\n",
    "**Load the dataset and split the data into an approximate 80-20 train-test sets.**"
   ]
  },
  {
   "cell_type": "code",
   "execution_count": 2,
   "metadata": {
    "ExecuteTime": {
     "end_time": "2020-10-11T09:16:20.407546Z",
     "start_time": "2020-10-11T09:16:14.029206Z"
    }
   },
   "outputs": [
    {
     "name": "stdout",
     "output_type": "stream",
     "text": [
      "(601, 7129) (151, 7129) (601,) (151,)\n"
     ]
    }
   ],
   "source": [
    "# load the dataset\n",
    "gene_data = pd.read_csv('data/cancer_genes.csv')\n",
    "\n",
    "# Select predictor and response variables\n",
    "X = gene_data.iloc[:, 2:]\n",
    "y = gene_data.iloc[:, 1]\n",
    "\n",
    "# Normalize the data\n",
    "scaler = MinMaxScaler(feature_range=(0, 1))\n",
    "X_norm = scaler.fit_transform(X)\n",
    "X_norm = pd.DataFrame(X_norm, columns=X.columns, index=X.index)\n",
    "\n",
    "# split data into train and test set\n",
    "X_train, X_test, y_train, y_test = train_test_split(X_norm, y, test_size=0.2, random_state=42)\n",
    "print(X_train.shape, X_test.shape, y_train.shape, y_test.shape)"
   ]
  },
  {
   "cell_type": "code",
   "execution_count": 3,
   "metadata": {
    "ExecuteTime": {
     "end_time": "2020-10-11T09:16:20.498509Z",
     "start_time": "2020-10-11T09:16:20.413392Z"
    }
   },
   "outputs": [
    {
     "data": {
      "text/html": [
       "<div>\n",
       "<style scoped>\n",
       "    .dataframe tbody tr th:only-of-type {\n",
       "        vertical-align: middle;\n",
       "    }\n",
       "\n",
       "    .dataframe tbody tr th {\n",
       "        vertical-align: top;\n",
       "    }\n",
       "\n",
       "    .dataframe thead th {\n",
       "        text-align: right;\n",
       "    }\n",
       "</style>\n",
       "<table border=\"1\" class=\"dataframe\">\n",
       "  <thead>\n",
       "    <tr style=\"text-align: right;\">\n",
       "      <th></th>\n",
       "      <th>Unnamed: 0</th>\n",
       "      <th>Cancer_type</th>\n",
       "      <th>AFFX-BioB-5_at</th>\n",
       "      <th>AFFX-BioB-M_at</th>\n",
       "      <th>AFFX-BioB-3_at</th>\n",
       "      <th>AFFX-BioC-5_at</th>\n",
       "      <th>AFFX-BioC-3_at</th>\n",
       "      <th>AFFX-BioDn-5_at</th>\n",
       "      <th>AFFX-BioDn-3_at</th>\n",
       "      <th>AFFX-CreX-5_at</th>\n",
       "      <th>...</th>\n",
       "      <th>U48730_at</th>\n",
       "      <th>U58516_at</th>\n",
       "      <th>U73738_at</th>\n",
       "      <th>X06956_at</th>\n",
       "      <th>X16699_at</th>\n",
       "      <th>X83863_at</th>\n",
       "      <th>Z17240_at</th>\n",
       "      <th>L49218_f_at</th>\n",
       "      <th>M71243_f_at</th>\n",
       "      <th>Z78285_f_at</th>\n",
       "    </tr>\n",
       "  </thead>\n",
       "  <tbody>\n",
       "    <tr>\n",
       "      <th>0</th>\n",
       "      <td>0</td>\n",
       "      <td>0.0</td>\n",
       "      <td>-214.0</td>\n",
       "      <td>-153.0</td>\n",
       "      <td>-58.0</td>\n",
       "      <td>88.0</td>\n",
       "      <td>-295.0</td>\n",
       "      <td>-558.0</td>\n",
       "      <td>199.0</td>\n",
       "      <td>-176.0</td>\n",
       "      <td>...</td>\n",
       "      <td>185.0</td>\n",
       "      <td>511.0</td>\n",
       "      <td>-125.0</td>\n",
       "      <td>389.0</td>\n",
       "      <td>-37.0</td>\n",
       "      <td>793.0</td>\n",
       "      <td>329.0</td>\n",
       "      <td>36.0</td>\n",
       "      <td>191.0</td>\n",
       "      <td>-37.0</td>\n",
       "    </tr>\n",
       "    <tr>\n",
       "      <th>1</th>\n",
       "      <td>1</td>\n",
       "      <td>0.0</td>\n",
       "      <td>-135.0</td>\n",
       "      <td>-114.0</td>\n",
       "      <td>265.0</td>\n",
       "      <td>12.0</td>\n",
       "      <td>-419.0</td>\n",
       "      <td>-585.0</td>\n",
       "      <td>158.0</td>\n",
       "      <td>-253.0</td>\n",
       "      <td>...</td>\n",
       "      <td>240.0</td>\n",
       "      <td>835.0</td>\n",
       "      <td>218.0</td>\n",
       "      <td>174.0</td>\n",
       "      <td>-110.0</td>\n",
       "      <td>627.0</td>\n",
       "      <td>170.0</td>\n",
       "      <td>-50.0</td>\n",
       "      <td>126.0</td>\n",
       "      <td>-91.0</td>\n",
       "    </tr>\n",
       "    <tr>\n",
       "      <th>2</th>\n",
       "      <td>2</td>\n",
       "      <td>0.0</td>\n",
       "      <td>-106.0</td>\n",
       "      <td>-125.0</td>\n",
       "      <td>-76.0</td>\n",
       "      <td>168.0</td>\n",
       "      <td>-230.0</td>\n",
       "      <td>-284.0</td>\n",
       "      <td>4.0</td>\n",
       "      <td>-122.0</td>\n",
       "      <td>...</td>\n",
       "      <td>156.0</td>\n",
       "      <td>649.0</td>\n",
       "      <td>57.0</td>\n",
       "      <td>504.0</td>\n",
       "      <td>-26.0</td>\n",
       "      <td>250.0</td>\n",
       "      <td>314.0</td>\n",
       "      <td>14.0</td>\n",
       "      <td>56.0</td>\n",
       "      <td>-25.0</td>\n",
       "    </tr>\n",
       "    <tr>\n",
       "      <th>3</th>\n",
       "      <td>3</td>\n",
       "      <td>0.0</td>\n",
       "      <td>-72.0</td>\n",
       "      <td>-144.0</td>\n",
       "      <td>238.0</td>\n",
       "      <td>55.0</td>\n",
       "      <td>-399.0</td>\n",
       "      <td>-551.0</td>\n",
       "      <td>131.0</td>\n",
       "      <td>-179.0</td>\n",
       "      <td>...</td>\n",
       "      <td>30.0</td>\n",
       "      <td>819.0</td>\n",
       "      <td>-178.0</td>\n",
       "      <td>151.0</td>\n",
       "      <td>-18.0</td>\n",
       "      <td>1140.0</td>\n",
       "      <td>482.0</td>\n",
       "      <td>10.0</td>\n",
       "      <td>369.0</td>\n",
       "      <td>-42.0</td>\n",
       "    </tr>\n",
       "    <tr>\n",
       "      <th>4</th>\n",
       "      <td>4</td>\n",
       "      <td>0.0</td>\n",
       "      <td>-413.0</td>\n",
       "      <td>-260.0</td>\n",
       "      <td>7.0</td>\n",
       "      <td>-2.0</td>\n",
       "      <td>-541.0</td>\n",
       "      <td>-790.0</td>\n",
       "      <td>-275.0</td>\n",
       "      <td>-463.0</td>\n",
       "      <td>...</td>\n",
       "      <td>289.0</td>\n",
       "      <td>629.0</td>\n",
       "      <td>-86.0</td>\n",
       "      <td>302.0</td>\n",
       "      <td>23.0</td>\n",
       "      <td>1798.0</td>\n",
       "      <td>446.0</td>\n",
       "      <td>59.0</td>\n",
       "      <td>781.0</td>\n",
       "      <td>20.0</td>\n",
       "    </tr>\n",
       "  </tbody>\n",
       "</table>\n",
       "<p>5 rows × 7131 columns</p>\n",
       "</div>"
      ],
      "text/plain": [
       "   Unnamed: 0  Cancer_type  AFFX-BioB-5_at  AFFX-BioB-M_at  AFFX-BioB-3_at  \\\n",
       "0           0          0.0          -214.0          -153.0           -58.0   \n",
       "1           1          0.0          -135.0          -114.0           265.0   \n",
       "2           2          0.0          -106.0          -125.0           -76.0   \n",
       "3           3          0.0           -72.0          -144.0           238.0   \n",
       "4           4          0.0          -413.0          -260.0             7.0   \n",
       "\n",
       "   AFFX-BioC-5_at  AFFX-BioC-3_at  AFFX-BioDn-5_at  AFFX-BioDn-3_at  \\\n",
       "0            88.0          -295.0           -558.0            199.0   \n",
       "1            12.0          -419.0           -585.0            158.0   \n",
       "2           168.0          -230.0           -284.0              4.0   \n",
       "3            55.0          -399.0           -551.0            131.0   \n",
       "4            -2.0          -541.0           -790.0           -275.0   \n",
       "\n",
       "   AFFX-CreX-5_at  ...  U48730_at  U58516_at  U73738_at  X06956_at  X16699_at  \\\n",
       "0          -176.0  ...      185.0      511.0     -125.0      389.0      -37.0   \n",
       "1          -253.0  ...      240.0      835.0      218.0      174.0     -110.0   \n",
       "2          -122.0  ...      156.0      649.0       57.0      504.0      -26.0   \n",
       "3          -179.0  ...       30.0      819.0     -178.0      151.0      -18.0   \n",
       "4          -463.0  ...      289.0      629.0      -86.0      302.0       23.0   \n",
       "\n",
       "   X83863_at  Z17240_at  L49218_f_at  M71243_f_at  Z78285_f_at  \n",
       "0      793.0      329.0         36.0        191.0        -37.0  \n",
       "1      627.0      170.0        -50.0        126.0        -91.0  \n",
       "2      250.0      314.0         14.0         56.0        -25.0  \n",
       "3     1140.0      482.0         10.0        369.0        -42.0  \n",
       "4     1798.0      446.0         59.0        781.0         20.0  \n",
       "\n",
       "[5 rows x 7131 columns]"
      ]
     },
     "execution_count": 3,
     "metadata": {},
     "output_type": "execute_result"
    }
   ],
   "source": [
    "gene_data.head()"
   ]
  },
  {
   "cell_type": "code",
   "execution_count": 4,
   "metadata": {
    "ExecuteTime": {
     "end_time": "2020-10-11T09:16:20.512748Z",
     "start_time": "2020-10-11T09:16:20.504809Z"
    }
   },
   "outputs": [
    {
     "data": {
      "text/plain": [
       "(752, 7131)"
      ]
     },
     "execution_count": 4,
     "metadata": {},
     "output_type": "execute_result"
    }
   ],
   "source": [
    "gene_data.shape"
   ]
  },
  {
   "cell_type": "markdown",
   "metadata": {},
   "source": [
    "### 1.2\n",
    "\n",
    "**Take a peek at your training set: you should notice the severe differences in the measurements from one gene to the next (some are negative, some hover around zero, and some are well into the thousands). To account for these differences in scale and variability, normalize each predictor to vary between 0 and 1.**\n",
    "<br />NOTE: for the entirety of this homework assignment associated with this dataset, you will use these normalized values, not the original, raw values."
   ]
  },
  {
   "cell_type": "code",
   "execution_count": 5,
   "metadata": {
    "ExecuteTime": {
     "end_time": "2020-10-11T09:16:20.986798Z",
     "start_time": "2020-10-11T09:16:20.517586Z"
    }
   },
   "outputs": [
    {
     "name": "stdout",
     "output_type": "stream",
     "text": [
      "<class 'numpy.ndarray'>\n"
     ]
    },
    {
     "data": {
      "text/html": [
       "<div>\n",
       "<style scoped>\n",
       "    .dataframe tbody tr th:only-of-type {\n",
       "        vertical-align: middle;\n",
       "    }\n",
       "\n",
       "    .dataframe tbody tr th {\n",
       "        vertical-align: top;\n",
       "    }\n",
       "\n",
       "    .dataframe thead th {\n",
       "        text-align: right;\n",
       "    }\n",
       "</style>\n",
       "<table border=\"1\" class=\"dataframe\">\n",
       "  <thead>\n",
       "    <tr style=\"text-align: right;\">\n",
       "      <th></th>\n",
       "      <th>AFFX-BioB-5_at</th>\n",
       "      <th>AFFX-BioB-M_at</th>\n",
       "      <th>AFFX-BioB-3_at</th>\n",
       "      <th>AFFX-BioC-5_at</th>\n",
       "      <th>AFFX-BioC-3_at</th>\n",
       "      <th>AFFX-BioDn-5_at</th>\n",
       "      <th>AFFX-BioDn-3_at</th>\n",
       "      <th>AFFX-CreX-5_at</th>\n",
       "      <th>AFFX-CreX-3_at</th>\n",
       "      <th>AFFX-BioB-5_st</th>\n",
       "      <th>...</th>\n",
       "      <th>U48730_at</th>\n",
       "      <th>U58516_at</th>\n",
       "      <th>U73738_at</th>\n",
       "      <th>X06956_at</th>\n",
       "      <th>X16699_at</th>\n",
       "      <th>X83863_at</th>\n",
       "      <th>Z17240_at</th>\n",
       "      <th>L49218_f_at</th>\n",
       "      <th>M71243_f_at</th>\n",
       "      <th>Z78285_f_at</th>\n",
       "    </tr>\n",
       "  </thead>\n",
       "  <tbody>\n",
       "    <tr>\n",
       "      <th>585</th>\n",
       "      <td>0.449248</td>\n",
       "      <td>0.511972</td>\n",
       "      <td>0.691606</td>\n",
       "      <td>0.556606</td>\n",
       "      <td>0.364965</td>\n",
       "      <td>0.354236</td>\n",
       "      <td>0.704394</td>\n",
       "      <td>0.286927</td>\n",
       "      <td>0.686325</td>\n",
       "      <td>0.386291</td>\n",
       "      <td>...</td>\n",
       "      <td>0.482527</td>\n",
       "      <td>0.411166</td>\n",
       "      <td>0.501314</td>\n",
       "      <td>0.435314</td>\n",
       "      <td>0.624691</td>\n",
       "      <td>0.469081</td>\n",
       "      <td>0.431141</td>\n",
       "      <td>0.693760</td>\n",
       "      <td>0.591315</td>\n",
       "      <td>0.574723</td>\n",
       "    </tr>\n",
       "    <tr>\n",
       "      <th>131</th>\n",
       "      <td>0.621339</td>\n",
       "      <td>0.334273</td>\n",
       "      <td>0.589230</td>\n",
       "      <td>0.439587</td>\n",
       "      <td>0.524953</td>\n",
       "      <td>0.491959</td>\n",
       "      <td>0.790105</td>\n",
       "      <td>0.568881</td>\n",
       "      <td>0.676857</td>\n",
       "      <td>0.561299</td>\n",
       "      <td>...</td>\n",
       "      <td>0.699944</td>\n",
       "      <td>0.595743</td>\n",
       "      <td>0.374207</td>\n",
       "      <td>0.427203</td>\n",
       "      <td>0.503224</td>\n",
       "      <td>0.700563</td>\n",
       "      <td>0.399552</td>\n",
       "      <td>0.419959</td>\n",
       "      <td>0.458827</td>\n",
       "      <td>0.503399</td>\n",
       "    </tr>\n",
       "    <tr>\n",
       "      <th>44</th>\n",
       "      <td>0.452590</td>\n",
       "      <td>0.571979</td>\n",
       "      <td>0.175384</td>\n",
       "      <td>0.299435</td>\n",
       "      <td>0.390593</td>\n",
       "      <td>0.156838</td>\n",
       "      <td>0.834868</td>\n",
       "      <td>0.416063</td>\n",
       "      <td>0.586133</td>\n",
       "      <td>0.414187</td>\n",
       "      <td>...</td>\n",
       "      <td>0.522651</td>\n",
       "      <td>0.697904</td>\n",
       "      <td>0.348884</td>\n",
       "      <td>0.481884</td>\n",
       "      <td>0.598199</td>\n",
       "      <td>0.760218</td>\n",
       "      <td>0.588167</td>\n",
       "      <td>0.630986</td>\n",
       "      <td>0.467961</td>\n",
       "      <td>0.375811</td>\n",
       "    </tr>\n",
       "  </tbody>\n",
       "</table>\n",
       "<p>3 rows × 7129 columns</p>\n",
       "</div>"
      ],
      "text/plain": [
       "     AFFX-BioB-5_at  AFFX-BioB-M_at  AFFX-BioB-3_at  AFFX-BioC-5_at  \\\n",
       "585        0.449248        0.511972        0.691606        0.556606   \n",
       "131        0.621339        0.334273        0.589230        0.439587   \n",
       "44         0.452590        0.571979        0.175384        0.299435   \n",
       "\n",
       "     AFFX-BioC-3_at  AFFX-BioDn-5_at  AFFX-BioDn-3_at  AFFX-CreX-5_at  \\\n",
       "585        0.364965         0.354236         0.704394        0.286927   \n",
       "131        0.524953         0.491959         0.790105        0.568881   \n",
       "44         0.390593         0.156838         0.834868        0.416063   \n",
       "\n",
       "     AFFX-CreX-3_at  AFFX-BioB-5_st  ...  U48730_at  U58516_at  U73738_at  \\\n",
       "585        0.686325        0.386291  ...   0.482527   0.411166   0.501314   \n",
       "131        0.676857        0.561299  ...   0.699944   0.595743   0.374207   \n",
       "44         0.586133        0.414187  ...   0.522651   0.697904   0.348884   \n",
       "\n",
       "     X06956_at  X16699_at  X83863_at  Z17240_at  L49218_f_at  M71243_f_at  \\\n",
       "585   0.435314   0.624691   0.469081   0.431141     0.693760     0.591315   \n",
       "131   0.427203   0.503224   0.700563   0.399552     0.419959     0.458827   \n",
       "44    0.481884   0.598199   0.760218   0.588167     0.630986     0.467961   \n",
       "\n",
       "     Z78285_f_at  \n",
       "585     0.574723  \n",
       "131     0.503399  \n",
       "44      0.375811  \n",
       "\n",
       "[3 rows x 7129 columns]"
      ]
     },
     "execution_count": 5,
     "metadata": {},
     "output_type": "execute_result"
    }
   ],
   "source": [
    "# Normalize the data\n",
    "scaler = MinMaxScaler(feature_range=(0, 1))\n",
    "X_train_norm = scaler.fit_transform(X_train)\n",
    "print(type(X_train_norm))\n",
    "X_train_norm_df = pd.DataFrame(X_train_norm, columns=X_train.columns, index=X_train.index)\n",
    "X_train_norm_df.head(3)"
   ]
  },
  {
   "cell_type": "code",
   "execution_count": 6,
   "metadata": {
    "ExecuteTime": {
     "end_time": "2020-10-11T09:16:21.005650Z",
     "start_time": "2020-10-11T09:16:20.991154Z"
    }
   },
   "outputs": [
    {
     "data": {
      "text/plain": [
       "((601, 7129), (601, 7129))"
      ]
     },
     "execution_count": 6,
     "metadata": {},
     "output_type": "execute_result"
    }
   ],
   "source": [
    "X_train_norm_df.shape, X_train.shape"
   ]
  },
  {
   "cell_type": "markdown",
   "metadata": {},
   "source": [
    "### 1.3\n",
    "\n",
    "**The training set contains more predictors than observations. What problem(s) can this lead to in fitting a classification model to such a dataset? Explain in 3 or fewer sentences.**"
   ]
  },
  {
   "cell_type": "markdown",
   "metadata": {},
   "source": [
    "**Ans: When there are more predictors than the number of observations, then the classification model will overfit**"
   ]
  },
  {
   "cell_type": "markdown",
   "metadata": {},
   "source": [
    "<div class=\"alert alert-block alert-danger\" style=\"color:black;background-color:#EFF8D0\">\n",
    "\n",
    "**Question 2: Determining the best predictors [15 points]** \n",
    "<br /><br />\n",
    " \n",
    "**2.1** [10pts] The aim is to determine which 10 genes individually discriminate between the two cancer classes the best (consider every gene in the dataset). \n",
    " \n",
    "**Hint:** You may use t-testing to make this determination: https://en.wikipedia.org/wiki/Welch%27s_t-test .\n",
    " \n",
    "<br /><br />\n",
    "**2.2** [5pts] Call the predictor that discriminates the best above `best_predictor` and plot two histograms of this predictor -- one using the training set and another using the testing set. Each histogram should clearly distinguish two different `Cancer_type` classes.\n"
   ]
  },
  {
   "cell_type": "markdown",
   "metadata": {},
   "source": [
    "## Solutions "
   ]
  },
  {
   "cell_type": "markdown",
   "metadata": {},
   "source": [
    "### 2.1\n",
    "**The aim is to determine which 10 genes individually discriminate between the two cancer classes the best (consider every gene in the dataset).**\n",
    "\n",
    "**Hint: You may use t-testing to make this determination: https://en.wikipedia.org/wiki/Welch%27s_t-test .**"
   ]
  },
  {
   "cell_type": "code",
   "execution_count": 7,
   "metadata": {
    "ExecuteTime": {
     "end_time": "2020-10-11T09:16:21.032975Z",
     "start_time": "2020-10-11T09:16:21.009595Z"
    }
   },
   "outputs": [],
   "source": [
    "# function to calculate ttest value and return n best predictors\n",
    "t_dict = {}\n",
    "def ttest(Xtrain, ytrain, n):\n",
    "    \"\"\"\n",
    "    Xtrain: training predictors df\n",
    "    ytrain: training labels\n",
    "    n = no of best prepdictors to be returned\n",
    "    \"\"\"\n",
    "    cols = Xtrain.columns\n",
    "    for col in cols:\n",
    "        xpos = Xtrain[ytrain==1][col]\n",
    "        xneg = Xtrain[ytrain==0][col]\n",
    "        xpos_mean = xpos.mean()\n",
    "        xneg_mean = xneg.mean()\n",
    "        mean_diff = np.abs(xpos_mean - xneg_mean)\n",
    "        npos = len(xpos)\n",
    "        nneg = len(xneg)\n",
    "        var_pos = np.var(xpos, ddof=1)\n",
    "        var_neg = np.var(xneg, ddof=1)\n",
    "        denominator = np.sqrt((var_pos/npos) + var_neg/nneg)\n",
    "        test_value = mean_diff/denominator\n",
    "        t_dict[col] = test_value\n",
    "    sorted_preds = sorted(t_dict.items(), key=lambda x: x[1], reverse=True)\n",
    "    best_predictors = [p[0] for p in sorted_preds]\n",
    "    \n",
    "    return best_predictors[:n]"
   ]
  },
  {
   "cell_type": "code",
   "execution_count": 11,
   "metadata": {
    "ExecuteTime": {
     "end_time": "2020-10-11T09:19:42.964651Z",
     "start_time": "2020-10-11T09:17:21.741714Z"
    }
   },
   "outputs": [
    {
     "data": {
      "text/plain": [
       "['X95735_at',\n",
       " 'Y08612_at',\n",
       " 'M31523_at',\n",
       " 'X61587_at',\n",
       " 'U50136_rna1_at',\n",
       " 'X17042_at',\n",
       " 'M84526_at',\n",
       " 'X76648_at',\n",
       " 'J04615_at',\n",
       " 'X59350_at']"
      ]
     },
     "execution_count": 11,
     "metadata": {},
     "output_type": "execute_result"
    }
   ],
   "source": [
    "# 10 genes that individually discriminate between the two cancer classes the best\n",
    "ten_best_genes = ttest(X_train_norm_df, y_train, 10)\n",
    "ten_best_genes"
   ]
  },
  {
   "cell_type": "markdown",
   "metadata": {},
   "source": [
    "### 2.2\n",
    "**Call the predictor that discriminates the best above best_predictor and plot two histograms of this predictor -- one using the training set and another using the testing set. Each histogram should clearly distinguish two different Cancer_type classes.**"
   ]
  },
  {
   "cell_type": "code",
   "execution_count": 12,
   "metadata": {
    "ExecuteTime": {
     "end_time": "2020-10-11T09:19:42.976407Z",
     "start_time": "2020-10-11T09:19:42.968258Z"
    }
   },
   "outputs": [
    {
     "data": {
      "text/plain": [
       "Index(['AFFX-BioB-5_at', 'AFFX-BioB-M_at', 'AFFX-BioB-3_at', 'AFFX-BioC-5_at',\n",
       "       'AFFX-BioC-3_at', 'AFFX-BioDn-5_at', 'AFFX-BioDn-3_at',\n",
       "       'AFFX-CreX-5_at', 'AFFX-CreX-3_at', 'AFFX-BioB-5_st',\n",
       "       ...\n",
       "       'U48730_at', 'U58516_at', 'U73738_at', 'X06956_at', 'X16699_at',\n",
       "       'X83863_at', 'Z17240_at', 'L49218_f_at', 'M71243_f_at', 'Z78285_f_at'],\n",
       "      dtype='object', length=7129)"
      ]
     },
     "execution_count": 12,
     "metadata": {},
     "output_type": "execute_result"
    }
   ],
   "source": [
    "X.columns"
   ]
  },
  {
   "cell_type": "code",
   "execution_count": 13,
   "metadata": {
    "ExecuteTime": {
     "end_time": "2020-10-11T09:19:42.991244Z",
     "start_time": "2020-10-11T09:19:42.980811Z"
    }
   },
   "outputs": [
    {
     "name": "stdout",
     "output_type": "stream",
     "text": [
      "The best predictor column is: X95735_at\n"
     ]
    }
   ],
   "source": [
    "best_predictor = ten_best_genes[0]\n",
    "print(\"The best predictor column is:\",best_predictor)"
   ]
  },
  {
   "cell_type": "code",
   "execution_count": 14,
   "metadata": {
    "ExecuteTime": {
     "end_time": "2020-10-11T09:19:51.068217Z",
     "start_time": "2020-10-11T09:19:50.212514Z"
    }
   },
   "outputs": [
    {
     "data": {
      "image/png": "[encoded data removed]",
      "text/plain": [
       "<Figure size 432x288 with 1 Axes>"
      ]
     },
     "metadata": {},
     "output_type": "display_data"
    }
   ],
   "source": [
    "# plot histogram of best predictor column in train set\n",
    "plt.style.use('fivethirtyeight')\n",
    "plt.hist(X_train_norm_df[best_predictor][y_train==1], alpha=0.5)\n",
    "plt.hist(X_train_norm_df[best_predictor][y_train==0], alpha=0.5)\n",
    "plt.axvline(0.5, color='r')\n",
    "plt.show()"
   ]
  },
  {
   "cell_type": "code",
   "execution_count": 15,
   "metadata": {
    "ExecuteTime": {
     "end_time": "2020-10-11T09:19:51.800453Z",
     "start_time": "2020-10-11T09:19:51.075080Z"
    }
   },
   "outputs": [
    {
     "data": {
      "image/png": "[encoded data removed]",
      "text/plain": [
       "<Figure size 432x288 with 1 Axes>"
      ]
     },
     "metadata": {},
     "output_type": "display_data"
    }
   ],
   "source": [
    "# plot histogram of best predictor column in train set\n",
    "plt.style.use('fivethirtyeight')\n",
    "plt.hist(X_test[best_predictor][y_test==1], alpha=0.5)\n",
    "plt.hist(X_test[best_predictor][y_test==0], alpha=0.5)\n",
    "plt.xlabel(\"X95735_at\")\n",
    "plt.show()"
   ]
  },
  {
   "cell_type": "markdown",
   "metadata": {},
   "source": [
    "<div class=\"alert alert-block alert-danger\" style=\"color:black;background-color:#EFF8D0\">\n",
    "\n",
    "**Question 3: Predicting the types of cancer based on gene expression [25 points]**\n",
    "<br /><br />\n",
    "\n",
    "**3.1** [10pts] Fit a simple logistic regression model to the training set using the single gene predictor `best_predictor` identified in the previous part to predict cancer type. <br/>\n",
    "**Note:** Remember, you need to set the regularization parameter for sklearn's logistic regression function to be a very large value in order to not regularize (use 'C=100000').\n",
    "<br /><br />\n",
    "\n",
    "**3.2** [5pts] Print and interpret Logistic Regression coefficient and intercept. \n",
    "<br /><br />\n",
    "**3.3** [10pts] Create 2 plots (with training and testing data) with the following items displayed on each plot.\n",
    "\n",
    "- the predicted probabilities of the logistic regression model as a function of the best gene predictor. \n",
    "- the true binary response. \n",
    "- a horizontal line at $y=0.5$. "
   ]
  },
  {
   "cell_type": "markdown",
   "metadata": {},
   "source": [
    "## Solutions"
   ]
  },
  {
   "cell_type": "markdown",
   "metadata": {},
   "source": [
    "### 3.1\n",
    "**Fit a simple logistic regression model to the training set using the single gene predictor best_predictor identified in the previous part to predict cancer type.**<br />\n",
    "Note: Remember, you need to set the regularization parameter for sklearn's logistic regression function to be a very large value in order to not regularize (use 'C=100000')."
   ]
  },
  {
   "cell_type": "code",
   "execution_count": 16,
   "metadata": {
    "ExecuteTime": {
     "end_time": "2020-10-11T09:20:01.558512Z",
     "start_time": "2020-10-11T09:20:01.526106Z"
    }
   },
   "outputs": [
    {
     "data": {
      "text/plain": [
       "LogisticRegression(C=100000)"
      ]
     },
     "execution_count": 16,
     "metadata": {},
     "output_type": "execute_result"
    }
   ],
   "source": [
    "# set the predictor\n",
    "x_train = X_train[[best_predictor]]\n",
    "\n",
    "# instantiate logistic regression model\n",
    "log_clf = LogisticRegression(C=100000)\n",
    "# fit the logistic regression model\n",
    "log_clf.fit(x_train, y_train)"
   ]
  },
  {
   "cell_type": "markdown",
   "metadata": {},
   "source": [
    "### 3.2\n",
    "**Print and interpret Logistic Regression coefficient and intercept.**"
   ]
  },
  {
   "cell_type": "code",
   "execution_count": 17,
   "metadata": {
    "ExecuteTime": {
     "end_time": "2020-10-11T09:20:04.637285Z",
     "start_time": "2020-10-11T09:20:04.627420Z"
    }
   },
   "outputs": [
    {
     "name": "stdout",
     "output_type": "stream",
     "text": [
      "Coefficient: [[10.08762369]]\n",
      "Intercept: [-4.68574901]\n"
     ]
    }
   ],
   "source": [
    "coef = log_clf.coef_\n",
    "intercept = log_clf.intercept_\n",
    "print(\"Coefficient:\", coef)\n",
    "print(\"Intercept:\", intercept)"
   ]
  },
  {
   "cell_type": "code",
   "execution_count": 18,
   "metadata": {
    "ExecuteTime": {
     "end_time": "2020-10-11T09:20:25.808482Z",
     "start_time": "2020-10-11T09:20:25.798695Z"
    }
   },
   "outputs": [],
   "source": [
    "def sigmoid(x):\n",
    "    return 1/(1+np.exp(-(intercept + coef*x)))\n",
    "\n",
    "x = np.linspace(0, 1, 1000)\n",
    "y = sigmoid(x)"
   ]
  },
  {
   "cell_type": "code",
   "execution_count": 19,
   "metadata": {
    "ExecuteTime": {
     "end_time": "2020-10-11T09:20:26.159397Z",
     "start_time": "2020-10-11T09:20:26.151435Z"
    }
   },
   "outputs": [
    {
     "data": {
      "text/plain": [
       "((1000,), (1, 1000))"
      ]
     },
     "execution_count": 19,
     "metadata": {},
     "output_type": "execute_result"
    }
   ],
   "source": [
    "x.shape, y.shape"
   ]
  },
  {
   "cell_type": "code",
   "execution_count": 20,
   "metadata": {
    "ExecuteTime": {
     "end_time": "2020-10-11T09:20:27.185378Z",
     "start_time": "2020-10-11T09:20:26.551630Z"
    }
   },
   "outputs": [
    {
     "data": {
      "text/plain": [
       "<matplotlib.lines.Line2D at 0x7fd912318ca0>"
      ]
     },
     "execution_count": 20,
     "metadata": {},
     "output_type": "execute_result"
    },
    {
     "data": {
      "image/png": "[encoded data removed]",
      "text/plain": [
       "<Figure size 432x288 with 1 Axes>"
      ]
     },
     "metadata": {},
     "output_type": "display_data"
    }
   ],
   "source": [
    "y_ = y.reshape(-1, 1)\n",
    "plt.scatter(x_train, y_train, color='r')\n",
    "plt.plot(x, y_)\n",
    "plt.axvline(0.5)"
   ]
  },
  {
   "cell_type": "markdown",
   "metadata": {},
   "source": [
    "**Your answer here**"
   ]
  },
  {
   "cell_type": "markdown",
   "metadata": {},
   "source": [
    "### 3.3\n",
    "<b>\n",
    "Create 2 plots (with training and testing data) with the following items displayed on each plot.\n",
    "\n",
    "- the predicted probabilities of the logistic regression model as a function of the best gene predictor.<br />\n",
    "- the true binary response.<br />\n",
    "- a horizontal line at y=0.5.\n",
    "</b>"
   ]
  },
  {
   "cell_type": "code",
   "execution_count": 21,
   "metadata": {
    "ExecuteTime": {
     "end_time": "2020-10-11T09:20:34.638546Z",
     "start_time": "2020-10-11T09:20:34.624398Z"
    }
   },
   "outputs": [
    {
     "data": {
      "text/plain": [
       "array([[0.05384005, 0.94615995],\n",
       "       [0.37528589, 0.62471411],\n",
       "       [0.75054623, 0.24945377],\n",
       "       ...,\n",
       "       [0.30106536, 0.69893464],\n",
       "       [0.7755778 , 0.2244222 ],\n",
       "       [0.58636802, 0.41363198]])"
      ]
     },
     "execution_count": 21,
     "metadata": {},
     "output_type": "execute_result"
    }
   ],
   "source": [
    "train_preds = log_clf.predict_proba(x_train)\n",
    "train_preds"
   ]
  },
  {
   "cell_type": "code",
   "execution_count": 22,
   "metadata": {
    "ExecuteTime": {
     "end_time": "2020-10-11T09:20:35.668528Z",
     "start_time": "2020-10-11T09:20:34.990685Z"
    }
   },
   "outputs": [
    {
     "data": {
      "image/png": "[encoded data removed]",
      "text/plain": [
       "<Figure size 1080x720 with 1 Axes>"
      ]
     },
     "metadata": {},
     "output_type": "display_data"
    }
   ],
   "source": [
    "plt.figure(figsize=(15, 10))\n",
    "plt.plot(x_train[y_train == 0], 'bo', color='green', alpha=0.4)\n",
    "plt.plot(x_train[y_train == 1], 'v', color='blue', alpha=0.4)\n",
    "# plt.plot(train_preds[:, 0], 'bo', color='r')\n",
    "plt.axhline(0.5, color='r')\n",
    "plt.show()"
   ]
  },
  {
   "cell_type": "code",
   "execution_count": null,
   "metadata": {},
   "outputs": [],
   "source": []
  },
  {
   "cell_type": "markdown",
   "metadata": {},
   "source": [
    "<div class=\"alert alert-block alert-danger\" style=\"color:black;background-color:#EFF8D0\">\n",
    "<h2 style=\"color:black;background-color:#EFF8D0\"> Part B: Racial bias in machine learning systems [60 points total] </h2>    <br />\n",
    "\n",
    "\n",
    "![](https://static.propublica.org/projects/algorithmic-bias/assets/img/generated/opener-b-crop-2400*1350-00796e.jpg)\n",
    "\n",
    "<br /><br />\n",
    "<b> Dataset Description </b><br /><br />\n",
    "The main dataset is the *compas.csv*.\n",
    "The variables are roughly explained in the `compas_datadict.csv` file, and ProPublica's analysis is publically available here: https://github.com/propublica/compas-analysis.\n",
    "\n",
    "The dataset was made publically available by **Northpointe**, an American tech-company that works with law establishment across several states in the US to predict future crimes based on past records of criminals.\n",
    "\n",
    "It has been suspected that the software used by Northpointe, `COMPAS`, is biased against the african american criminals, who end up with `high-risk` tags, despite minor criminal record, whereas `Caucasians` regularly received low-scores despite more significant criminal charges.\n",
    "    \n",
    "After pressure from several news agencies and a public investigation by ProPublica, the company released this dataset with a slice of the factors usually considered in order to assign a score to criminals.\n",
    "<br /><br />\n",
    "The dataset also contains a column `two_year_recid` with a binary response, i.e `1` if the released criminal ended up committing another crime within two years and `0` if the criminal did not commit a crime within a period of two years.\n",
    "    \n",
    "To learn more about this dataset, and the public investigation, you are highly recommended to read ProPublica's article on [Machine Bias](https://www.propublica.org/article/machine-bias-risk-assessments-in-criminal-sentencing)"
   ]
  },
  {
   "cell_type": "markdown",
   "metadata": {},
   "source": [
    "<div class=\"alert alert-block alert-danger\" style=\"color:black;background-color:#EFF8D0\">\n",
    "    \n",
    "**Question 1: Setting up the problem and understanding the data [15 points]**\n",
    "\n",
    "**1.1** [1pt] Split the data into 80% training and 20% validation sets stratified by race.\n",
    "\n",
    "By Stratified we mean that the two sets should have roughly similar distribution of races as the original data. For more information on how to stratify using sklearn, check sklearn documentation here.<br />\n",
    "\n",
    "NOTE: Before splitting you may want to process the categorical predictors first so you don't have to do it separately in train and validation later. \n",
    "<br /><br />\n",
    "**1.2** [4pts] Can you guess why processing the categorical predictors important? What is the risk of processing categorical predictors after splitting into train and validation sets?\n",
    "<br /><br />\n",
    "\n",
    "**1.3** [8pts] Make overlapping distributions (histograms) of the following predictors for two groups, African American & Caucasian.\n",
    "- Age\n",
    "- Priors count\n",
    "- Sex\n",
    "- Length of stay\n",
    "<br /><br />\n",
    "\n",
    "**1.4** [2pts] Among the following variables, which ones show disparity between the two groups? Explain your results in 2-3 sentences.\n",
    "<br /><br />"
   ]
  },
  {
   "cell_type": "markdown",
   "metadata": {},
   "source": [
    "## Solutions"
   ]
  },
  {
   "cell_type": "markdown",
   "metadata": {},
   "source": [
    "### 1.1\n",
    "<b>\n",
    "Split the data into 80% training and 20% validation sets stratified by race.\n",
    "\n",
    "By Stratified we mean that the two sets should have roughly similar distribution of races as the original data. For more information on how to stratify using sklearn, check sklearn documentation here.\n",
    "<br />\n",
    "NOTE: Before splitting you may want to process the categorical predictors first so you don't have to do it separately in train and validation later."
   ]
  },
  {
   "cell_type": "code",
   "execution_count": 24,
   "metadata": {
    "ExecuteTime": {
     "end_time": "2020-10-11T09:21:20.100435Z",
     "start_time": "2020-10-11T09:21:20.057026Z"
    }
   },
   "outputs": [],
   "source": [
    "# Get the data\n",
    "df = pd.read_csv('data/compas.csv')\n",
    "\n",
    "#Splitting the races\n",
    "aa_df = df[df['race'] == 'African-American']\n",
    "cc_df = df[df['race'] == 'Caucasian']"
   ]
  },
  {
   "cell_type": "code",
   "execution_count": 25,
   "metadata": {
    "ExecuteTime": {
     "end_time": "2020-10-11T09:21:20.620451Z",
     "start_time": "2020-10-11T09:21:20.545598Z"
    }
   },
   "outputs": [
    {
     "data": {
      "text/html": [
       "<div>\n",
       "<style scoped>\n",
       "    .dataframe tbody tr th:only-of-type {\n",
       "        vertical-align: middle;\n",
       "    }\n",
       "\n",
       "    .dataframe tbody tr th {\n",
       "        vertical-align: top;\n",
       "    }\n",
       "\n",
       "    .dataframe thead th {\n",
       "        text-align: right;\n",
       "    }\n",
       "</style>\n",
       "<table border=\"1\" class=\"dataframe\">\n",
       "  <thead>\n",
       "    <tr style=\"text-align: right;\">\n",
       "      <th></th>\n",
       "      <th>age</th>\n",
       "      <th>c_charge_degree</th>\n",
       "      <th>c_charge_desc</th>\n",
       "      <th>race</th>\n",
       "      <th>score_text</th>\n",
       "      <th>sex</th>\n",
       "      <th>priors_count</th>\n",
       "      <th>juv_fel_count</th>\n",
       "      <th>juv_misd_count</th>\n",
       "      <th>juv_other_count</th>\n",
       "      <th>...</th>\n",
       "      <th>priors_1</th>\n",
       "      <th>priors_234</th>\n",
       "      <th>priors_5plus</th>\n",
       "      <th>juv_fel_1plus</th>\n",
       "      <th>juv_misd_1plus</th>\n",
       "      <th>juv_other_1plus</th>\n",
       "      <th>charge_any_drug</th>\n",
       "      <th>charge_any_violence_aggression</th>\n",
       "      <th>charge_any_theft</th>\n",
       "      <th>length_of_stay_thresh</th>\n",
       "    </tr>\n",
       "  </thead>\n",
       "  <tbody>\n",
       "    <tr>\n",
       "      <th>0</th>\n",
       "      <td>28</td>\n",
       "      <td>M</td>\n",
       "      <td>Susp Drivers Lic 1st Offense</td>\n",
       "      <td>African-American</td>\n",
       "      <td>Medium</td>\n",
       "      <td>1</td>\n",
       "      <td>0</td>\n",
       "      <td>0</td>\n",
       "      <td>0</td>\n",
       "      <td>0</td>\n",
       "      <td>...</td>\n",
       "      <td>0</td>\n",
       "      <td>0</td>\n",
       "      <td>0</td>\n",
       "      <td>0</td>\n",
       "      <td>0</td>\n",
       "      <td>0</td>\n",
       "      <td>0</td>\n",
       "      <td>0</td>\n",
       "      <td>0</td>\n",
       "      <td>0</td>\n",
       "    </tr>\n",
       "    <tr>\n",
       "      <th>1</th>\n",
       "      <td>34</td>\n",
       "      <td>F</td>\n",
       "      <td>Possession of Cannabis</td>\n",
       "      <td>African-American</td>\n",
       "      <td>Medium</td>\n",
       "      <td>1</td>\n",
       "      <td>7</td>\n",
       "      <td>0</td>\n",
       "      <td>0</td>\n",
       "      <td>0</td>\n",
       "      <td>...</td>\n",
       "      <td>0</td>\n",
       "      <td>0</td>\n",
       "      <td>1</td>\n",
       "      <td>0</td>\n",
       "      <td>0</td>\n",
       "      <td>0</td>\n",
       "      <td>1</td>\n",
       "      <td>0</td>\n",
       "      <td>0</td>\n",
       "      <td>0</td>\n",
       "    </tr>\n",
       "    <tr>\n",
       "      <th>2</th>\n",
       "      <td>49</td>\n",
       "      <td>M</td>\n",
       "      <td>Battery</td>\n",
       "      <td>African-American</td>\n",
       "      <td>Low</td>\n",
       "      <td>1</td>\n",
       "      <td>6</td>\n",
       "      <td>0</td>\n",
       "      <td>0</td>\n",
       "      <td>0</td>\n",
       "      <td>...</td>\n",
       "      <td>0</td>\n",
       "      <td>0</td>\n",
       "      <td>1</td>\n",
       "      <td>0</td>\n",
       "      <td>0</td>\n",
       "      <td>0</td>\n",
       "      <td>0</td>\n",
       "      <td>1</td>\n",
       "      <td>0</td>\n",
       "      <td>1</td>\n",
       "    </tr>\n",
       "    <tr>\n",
       "      <th>3</th>\n",
       "      <td>44</td>\n",
       "      <td>F</td>\n",
       "      <td>Felony Driving While Lic Suspd</td>\n",
       "      <td>African-American</td>\n",
       "      <td>High</td>\n",
       "      <td>1</td>\n",
       "      <td>14</td>\n",
       "      <td>0</td>\n",
       "      <td>0</td>\n",
       "      <td>0</td>\n",
       "      <td>...</td>\n",
       "      <td>0</td>\n",
       "      <td>0</td>\n",
       "      <td>1</td>\n",
       "      <td>0</td>\n",
       "      <td>0</td>\n",
       "      <td>0</td>\n",
       "      <td>0</td>\n",
       "      <td>0</td>\n",
       "      <td>0</td>\n",
       "      <td>2</td>\n",
       "    </tr>\n",
       "    <tr>\n",
       "      <th>4</th>\n",
       "      <td>22</td>\n",
       "      <td>F</td>\n",
       "      <td>Grand Theft in the 3rd Degree</td>\n",
       "      <td>African-American</td>\n",
       "      <td>High</td>\n",
       "      <td>1</td>\n",
       "      <td>4</td>\n",
       "      <td>0</td>\n",
       "      <td>0</td>\n",
       "      <td>0</td>\n",
       "      <td>...</td>\n",
       "      <td>0</td>\n",
       "      <td>1</td>\n",
       "      <td>0</td>\n",
       "      <td>0</td>\n",
       "      <td>0</td>\n",
       "      <td>0</td>\n",
       "      <td>0</td>\n",
       "      <td>0</td>\n",
       "      <td>1</td>\n",
       "      <td>30</td>\n",
       "    </tr>\n",
       "  </tbody>\n",
       "</table>\n",
       "<p>5 rows × 23 columns</p>\n",
       "</div>"
      ],
      "text/plain": [
       "   age c_charge_degree                   c_charge_desc              race  \\\n",
       "0   28               M    Susp Drivers Lic 1st Offense  African-American   \n",
       "1   34               F          Possession of Cannabis  African-American   \n",
       "2   49               M                         Battery  African-American   \n",
       "3   44               F  Felony Driving While Lic Suspd  African-American   \n",
       "4   22               F   Grand Theft in the 3rd Degree  African-American   \n",
       "\n",
       "  score_text  sex  priors_count  juv_fel_count  juv_misd_count  \\\n",
       "0     Medium    1             0              0               0   \n",
       "1     Medium    1             7              0               0   \n",
       "2        Low    1             6              0               0   \n",
       "3       High    1            14              0               0   \n",
       "4       High    1             4              0               0   \n",
       "\n",
       "   juv_other_count  ...  priors_1  priors_234  priors_5plus  juv_fel_1plus  \\\n",
       "0                0  ...         0           0             0              0   \n",
       "1                0  ...         0           0             1              0   \n",
       "2                0  ...         0           0             1              0   \n",
       "3                0  ...         0           0             1              0   \n",
       "4                0  ...         0           1             0              0   \n",
       "\n",
       "   juv_misd_1plus  juv_other_1plus  charge_any_drug  \\\n",
       "0               0                0                0   \n",
       "1               0                0                1   \n",
       "2               0                0                0   \n",
       "3               0                0                0   \n",
       "4               0                0                0   \n",
       "\n",
       "   charge_any_violence_aggression  charge_any_theft  length_of_stay_thresh  \n",
       "0                               0                 0                      0  \n",
       "1                               0                 0                      0  \n",
       "2                               1                 0                      1  \n",
       "3                               0                 0                      2  \n",
       "4                               0                 1                     30  \n",
       "\n",
       "[5 rows x 23 columns]"
      ]
     },
     "execution_count": 25,
     "metadata": {},
     "output_type": "execute_result"
    }
   ],
   "source": [
    "new_df = pd.concat([aa_df, cc_df], ignore_index=True)\n",
    "\n",
    "new_df.head()"
   ]
  },
  {
   "cell_type": "code",
   "execution_count": 26,
   "metadata": {
    "ExecuteTime": {
     "end_time": "2020-10-11T09:21:25.751813Z",
     "start_time": "2020-10-11T09:21:25.742931Z"
    }
   },
   "outputs": [
    {
     "data": {
      "text/plain": [
       "((4749, 23), (2857, 23), (1892, 23))"
      ]
     },
     "execution_count": 26,
     "metadata": {},
     "output_type": "execute_result"
    }
   ],
   "source": [
    "new_df.shape, aa_df.shape, cc_df.shape"
   ]
  },
  {
   "cell_type": "code",
   "execution_count": 27,
   "metadata": {
    "ExecuteTime": {
     "end_time": "2020-10-11T09:21:26.477842Z",
     "start_time": "2020-10-11T09:21:26.440281Z"
    }
   },
   "outputs": [
    {
     "name": "stdout",
     "output_type": "stream",
     "text": [
      "<class 'pandas.core.frame.DataFrame'>\n",
      "RangeIndex: 5554 entries, 0 to 5553\n",
      "Data columns (total 23 columns):\n",
      " #   Column                          Non-Null Count  Dtype \n",
      "---  ------                          --------------  ----- \n",
      " 0   age                             5554 non-null   int64 \n",
      " 1   c_charge_degree                 5554 non-null   object\n",
      " 2   c_charge_desc                   5549 non-null   object\n",
      " 3   race                            5554 non-null   object\n",
      " 4   score_text                      5554 non-null   object\n",
      " 5   sex                             5554 non-null   int64 \n",
      " 6   priors_count                    5554 non-null   int64 \n",
      " 7   juv_fel_count                   5554 non-null   int64 \n",
      " 8   juv_misd_count                  5554 non-null   int64 \n",
      " 9   juv_other_count                 5554 non-null   int64 \n",
      " 10  decile_score                    5554 non-null   int64 \n",
      " 11  two_year_recid                  5554 non-null   int64 \n",
      " 12  length_of_stay                  5554 non-null   int64 \n",
      " 13  priors_1                        5554 non-null   int64 \n",
      " 14  priors_234                      5554 non-null   int64 \n",
      " 15  priors_5plus                    5554 non-null   int64 \n",
      " 16  juv_fel_1plus                   5554 non-null   int64 \n",
      " 17  juv_misd_1plus                  5554 non-null   int64 \n",
      " 18  juv_other_1plus                 5554 non-null   int64 \n",
      " 19  charge_any_drug                 5554 non-null   int64 \n",
      " 20  charge_any_violence_aggression  5554 non-null   int64 \n",
      " 21  charge_any_theft                5554 non-null   int64 \n",
      " 22  length_of_stay_thresh           5554 non-null   int64 \n",
      "dtypes: int64(19), object(4)\n",
      "memory usage: 998.1+ KB\n"
     ]
    }
   ],
   "source": [
    "df.info()"
   ]
  },
  {
   "cell_type": "code",
   "execution_count": 28,
   "metadata": {
    "ExecuteTime": {
     "end_time": "2020-10-11T09:21:31.762752Z",
     "start_time": "2020-10-11T09:21:31.687139Z"
    }
   },
   "outputs": [
    {
     "data": {
      "text/html": [
       "<div>\n",
       "<style scoped>\n",
       "    .dataframe tbody tr th:only-of-type {\n",
       "        vertical-align: middle;\n",
       "    }\n",
       "\n",
       "    .dataframe tbody tr th {\n",
       "        vertical-align: top;\n",
       "    }\n",
       "\n",
       "    .dataframe thead th {\n",
       "        text-align: right;\n",
       "    }\n",
       "</style>\n",
       "<table border=\"1\" class=\"dataframe\">\n",
       "  <thead>\n",
       "    <tr style=\"text-align: right;\">\n",
       "      <th></th>\n",
       "      <th>age</th>\n",
       "      <th>sex</th>\n",
       "      <th>priors_count</th>\n",
       "      <th>juv_fel_count</th>\n",
       "      <th>juv_misd_count</th>\n",
       "      <th>juv_other_count</th>\n",
       "      <th>decile_score</th>\n",
       "      <th>two_year_recid</th>\n",
       "      <th>length_of_stay</th>\n",
       "      <th>priors_1</th>\n",
       "      <th>...</th>\n",
       "      <th>c_charge_desc_Viol Pretrial Release Dom Viol</th>\n",
       "      <th>c_charge_desc_Viol Prot Injunc Repeat Viol</th>\n",
       "      <th>c_charge_desc_Violation License Restrictions</th>\n",
       "      <th>c_charge_desc_Violation Of Boater Safety Id</th>\n",
       "      <th>c_charge_desc_Violation of Injunction Order/Stalking/Cyberstalking</th>\n",
       "      <th>c_charge_desc_Voyeurism</th>\n",
       "      <th>c_charge_desc_arrest case no charge</th>\n",
       "      <th>race_Caucasian</th>\n",
       "      <th>score_text_Low</th>\n",
       "      <th>score_text_Medium</th>\n",
       "    </tr>\n",
       "  </thead>\n",
       "  <tbody>\n",
       "    <tr>\n",
       "      <th>0</th>\n",
       "      <td>28</td>\n",
       "      <td>1</td>\n",
       "      <td>0</td>\n",
       "      <td>0</td>\n",
       "      <td>0</td>\n",
       "      <td>0</td>\n",
       "      <td>7</td>\n",
       "      <td>1</td>\n",
       "      <td>0</td>\n",
       "      <td>0</td>\n",
       "      <td>...</td>\n",
       "      <td>0</td>\n",
       "      <td>0</td>\n",
       "      <td>0</td>\n",
       "      <td>0</td>\n",
       "      <td>0</td>\n",
       "      <td>0</td>\n",
       "      <td>0</td>\n",
       "      <td>0</td>\n",
       "      <td>0</td>\n",
       "      <td>1</td>\n",
       "    </tr>\n",
       "    <tr>\n",
       "      <th>1</th>\n",
       "      <td>34</td>\n",
       "      <td>1</td>\n",
       "      <td>7</td>\n",
       "      <td>0</td>\n",
       "      <td>0</td>\n",
       "      <td>0</td>\n",
       "      <td>6</td>\n",
       "      <td>1</td>\n",
       "      <td>0</td>\n",
       "      <td>0</td>\n",
       "      <td>...</td>\n",
       "      <td>0</td>\n",
       "      <td>0</td>\n",
       "      <td>0</td>\n",
       "      <td>0</td>\n",
       "      <td>0</td>\n",
       "      <td>0</td>\n",
       "      <td>0</td>\n",
       "      <td>0</td>\n",
       "      <td>0</td>\n",
       "      <td>1</td>\n",
       "    </tr>\n",
       "    <tr>\n",
       "      <th>2</th>\n",
       "      <td>49</td>\n",
       "      <td>1</td>\n",
       "      <td>6</td>\n",
       "      <td>0</td>\n",
       "      <td>0</td>\n",
       "      <td>0</td>\n",
       "      <td>4</td>\n",
       "      <td>1</td>\n",
       "      <td>1</td>\n",
       "      <td>0</td>\n",
       "      <td>...</td>\n",
       "      <td>0</td>\n",
       "      <td>0</td>\n",
       "      <td>0</td>\n",
       "      <td>0</td>\n",
       "      <td>0</td>\n",
       "      <td>0</td>\n",
       "      <td>0</td>\n",
       "      <td>0</td>\n",
       "      <td>1</td>\n",
       "      <td>0</td>\n",
       "    </tr>\n",
       "  </tbody>\n",
       "</table>\n",
       "<p>3 rows × 371 columns</p>\n",
       "</div>"
      ],
      "text/plain": [
       "   age  sex  priors_count  juv_fel_count  juv_misd_count  juv_other_count  \\\n",
       "0   28    1             0              0               0                0   \n",
       "1   34    1             7              0               0                0   \n",
       "2   49    1             6              0               0                0   \n",
       "\n",
       "   decile_score  two_year_recid  length_of_stay  priors_1  ...  \\\n",
       "0             7               1               0         0  ...   \n",
       "1             6               1               0         0  ...   \n",
       "2             4               1               1         0  ...   \n",
       "\n",
       "   c_charge_desc_Viol Pretrial Release Dom Viol  \\\n",
       "0                                             0   \n",
       "1                                             0   \n",
       "2                                             0   \n",
       "\n",
       "   c_charge_desc_Viol Prot Injunc Repeat Viol  \\\n",
       "0                                           0   \n",
       "1                                           0   \n",
       "2                                           0   \n",
       "\n",
       "   c_charge_desc_Violation License Restrictions  \\\n",
       "0                                             0   \n",
       "1                                             0   \n",
       "2                                             0   \n",
       "\n",
       "   c_charge_desc_Violation Of Boater Safety Id  \\\n",
       "0                                            0   \n",
       "1                                            0   \n",
       "2                                            0   \n",
       "\n",
       "   c_charge_desc_Violation of Injunction Order/Stalking/Cyberstalking  \\\n",
       "0                                                  0                    \n",
       "1                                                  0                    \n",
       "2                                                  0                    \n",
       "\n",
       "   c_charge_desc_Voyeurism  c_charge_desc_arrest case no charge  \\\n",
       "0                        0                                    0   \n",
       "1                        0                                    0   \n",
       "2                        0                                    0   \n",
       "\n",
       "   race_Caucasian  score_text_Low  score_text_Medium  \n",
       "0               0               0                  1  \n",
       "1               0               0                  1  \n",
       "2               0               1                  0  \n",
       "\n",
       "[3 rows x 371 columns]"
      ]
     },
     "execution_count": 28,
     "metadata": {},
     "output_type": "execute_result"
    }
   ],
   "source": [
    "# Encode categorical columns\n",
    "df_dummies = pd.get_dummies(data=new_df, drop_first=True)\n",
    "df_dummies.head(3)"
   ]
  },
  {
   "cell_type": "code",
   "execution_count": 29,
   "metadata": {
    "ExecuteTime": {
     "end_time": "2020-10-11T09:21:36.807861Z",
     "start_time": "2020-10-11T09:21:36.729387Z"
    }
   },
   "outputs": [],
   "source": [
    "# assign predictor and response variable\n",
    "X = df_dummies.drop(\"two_year_recid\", axis=1)\n",
    "y = df_dummies.two_year_recid\n",
    "\n",
    "# assigining data related to African Americans only\n",
    "X_aa = X[X.race_Caucasian == 0]\n",
    "y_aa = y[X.race_Caucasian == 0]\n",
    "\n",
    "# assigining data related to Caucasian only\n",
    "X_cc = X[X.race_Caucasian == 1]\n",
    "y_cc = y[X.race_Caucasian == 1]\n",
    "\n",
    "# split the dataframe\n",
    "Xtrain, Xtest, ytrain, ytest = train_test_split(X, y, test_size=0.2, random_state=42, stratify=df_dummies.race_Caucasian)"
   ]
  },
  {
   "cell_type": "code",
   "execution_count": 30,
   "metadata": {
    "ExecuteTime": {
     "end_time": "2020-10-11T09:21:37.891471Z",
     "start_time": "2020-10-11T09:21:37.879023Z"
    }
   },
   "outputs": [
    {
     "data": {
      "text/plain": [
       "((2857, 370), (2857,))"
      ]
     },
     "execution_count": 30,
     "metadata": {},
     "output_type": "execute_result"
    }
   ],
   "source": [
    "X_aa.shape, y_aa.shape"
   ]
  },
  {
   "cell_type": "code",
   "execution_count": 31,
   "metadata": {
    "ExecuteTime": {
     "end_time": "2020-10-11T09:21:38.751017Z",
     "start_time": "2020-10-11T09:21:38.736772Z"
    }
   },
   "outputs": [
    {
     "data": {
      "text/plain": [
       "African-American    2857\n",
       "Caucasian           1892\n",
       "Name: race, dtype: int64"
      ]
     },
     "execution_count": 31,
     "metadata": {},
     "output_type": "execute_result"
    }
   ],
   "source": [
    "new_df.race.value_counts()"
   ]
  },
  {
   "cell_type": "markdown",
   "metadata": {},
   "source": [
    "### 1.2\n",
    "<b>Can you guess why processing the categorical predictors important? What is the risk of processing categorical predictors after splitting into train and validation sets?"
   ]
  },
  {
   "cell_type": "markdown",
   "metadata": {},
   "source": [
    "**Your answer here**"
   ]
  },
  {
   "cell_type": "markdown",
   "metadata": {},
   "source": [
    "### 1.3\n",
    "<b>\n",
    "Make overlapping distributions (histograms) of the following predictors for two groups, African American & Caucasian.\n",
    "- Age\n",
    "- Priors count\n",
    "- Sex\n",
    "- Length of stay\n"
   ]
  },
  {
   "cell_type": "code",
   "execution_count": 32,
   "metadata": {
    "ExecuteTime": {
     "end_time": "2020-10-11T09:22:00.359635Z",
     "start_time": "2020-10-11T09:21:59.531603Z"
    },
    "scrolled": true
   },
   "outputs": [
    {
     "data": {
      "image/png": "[encoded data removed]",
      "text/plain": [
       "<Figure size 720x288 with 1 Axes>"
      ]
     },
     "metadata": {},
     "output_type": "display_data"
    }
   ],
   "source": [
    "    plt.figure(figsize=(10, 4))\n",
    "    aa_df[\"age\"].plot(kind=\"hist\", label=\"African American\")\n",
    "    cc_df[\"age\"].plot(kind=\"hist\", label=\"Caucasian\")\n",
    "    plt.title(\"African American and Caucuasian Distributions\")\n",
    "    plt.xlabel(\"Age\")\n",
    "    plt.legend()\n",
    "    plt.show()"
   ]
  },
  {
   "cell_type": "code",
   "execution_count": 33,
   "metadata": {
    "ExecuteTime": {
     "end_time": "2020-10-11T09:22:05.123677Z",
     "start_time": "2020-10-11T09:22:04.119286Z"
    },
    "scrolled": true
   },
   "outputs": [
    {
     "data": {
      "image/png": "[encoded data removed]",
      "text/plain": [
       "<Figure size 720x288 with 1 Axes>"
      ]
     },
     "metadata": {},
     "output_type": "display_data"
    }
   ],
   "source": [
    "plt.figure(figsize=(10, 4))\n",
    "aa_df[\"priors_count\"].plot(kind=\"hist\", label=\"African American\")\n",
    "cc_df[\"priors_count\"].plot(kind=\"hist\", label=\"Caucasian\")\n",
    "plt.title(\"African American and Caucuasian Distributions\")\n",
    "plt.xlabel(\"Priors Count\")\n",
    "plt.legend()\n",
    "plt.show()"
   ]
  },
  {
   "cell_type": "code",
   "execution_count": 34,
   "metadata": {
    "ExecuteTime": {
     "end_time": "2020-10-11T09:22:05.975507Z",
     "start_time": "2020-10-11T09:22:05.127896Z"
    }
   },
   "outputs": [
    {
     "data": {
      "image/png": "[encoded data removed]",
      "text/plain": [
       "<Figure size 720x288 with 1 Axes>"
      ]
     },
     "metadata": {},
     "output_type": "display_data"
    }
   ],
   "source": [
    "plt.figure(figsize=(10, 4))\n",
    "aa_df[\"sex\"].plot(kind=\"hist\", label=\"African American\")\n",
    "cc_df[\"sex\"].plot(kind=\"hist\", label=\"Caucasian\")\n",
    "plt.title(\"African American and Caucuasian Distributions\")\n",
    "plt.xlabel(\"Sex\")\n",
    "plt.legend()\n",
    "plt.show()"
   ]
  },
  {
   "cell_type": "code",
   "execution_count": 35,
   "metadata": {
    "ExecuteTime": {
     "end_time": "2020-10-11T09:22:06.856460Z",
     "start_time": "2020-10-11T09:22:05.979050Z"
    }
   },
   "outputs": [
    {
     "data": {
      "image/png": "[encoded data removed]",
      "text/plain": [
       "<Figure size 720x288 with 1 Axes>"
      ]
     },
     "metadata": {},
     "output_type": "display_data"
    }
   ],
   "source": [
    "plt.figure(figsize=(10, 4))\n",
    "aa_df[\"length_of_stay\"].plot(kind=\"hist\", label=\"African American\")\n",
    "cc_df[\"length_of_stay\"].plot(kind=\"hist\", label=\"Caucasian\")\n",
    "plt.title(\"African American and Caucuasian Distributions\")\n",
    "plt.xlabel(\"Length of Stay\")\n",
    "plt.legend()\n",
    "plt.show()"
   ]
  },
  {
   "cell_type": "markdown",
   "metadata": {},
   "source": [
    "### 1.4\n",
    "<b> \n",
    "Among the following variables, which ones show disparity between the two groups? Explain your results in 2-3 sentences."
   ]
  },
  {
   "cell_type": "markdown",
   "metadata": {},
   "source": [
    "**Your answer here**"
   ]
  },
  {
   "cell_type": "markdown",
   "metadata": {},
   "source": [
    "<div class=\"alert alert-block alert-danger\" style=\"color:black;background-color:#EFF8D0\">\n",
    "   \n",
    "**Question 2: Baseline model fitting [19 points]**\n",
    "\n",
    "**2.1** [15pts] Build a logistic regression model to predict recidivism (`two_year_recid`) on these data and be sure to include race as a predictor.<br />\n",
    "**NOTE**: In your list of predictors, `race` is one of the predictors.\n",
    "\n",
    "Report the following on the **validation set**:\n",
    "1. Overall model accuracy as a percentage\n",
    "2. *False Positive Rate(FPR)* as a percentage for:\n",
    "    - `African Americans`\n",
    "    - `Cacausians`\n",
    "3. *False Negative Rate(FNR)* as a percentage for:\n",
    "    - `African Americans`\n",
    "    - `Caucasians`\n",
    "4. Ratio of the FPR between `African_Americans` and `Caucasians`\n",
    "5. Ratio of the FNR between `African_Americans` and `Caucasians`\n",
    "\n",
    "i.e $\\frac{FPR(AA)}{FPR(CC)}$ and $\\frac{FNR(AA)}{FNR(CC)}$\n",
    "\n",
    "<br  /><br />\n",
    "**2.2** [4pts] What do you observe? Is there any disparity in the $FPR$ and $FNR$ for the two groups?\n",
    "Explain your findings in 3-6 sentences.\n"
   ]
  },
  {
   "cell_type": "markdown",
   "metadata": {},
   "source": [
    "## Solutions"
   ]
  },
  {
   "cell_type": "markdown",
   "metadata": {},
   "source": [
    "### 2.1\n",
    "<b> \n",
    "Build a logistic regression model to predict recidivism (two_year_recid) on these data and be sure to include race as a predictor."
   ]
  },
  {
   "cell_type": "code",
   "execution_count": 39,
   "metadata": {
    "ExecuteTime": {
     "end_time": "2020-10-11T09:35:16.397188Z",
     "start_time": "2020-10-11T09:35:16.375827Z"
    }
   },
   "outputs": [],
   "source": [
    "# this function returns FPR and FNR given true and predicted values\n",
    "def cal_fpr_fnr(ytest, y_preds):\n",
    "    TN = confusion_matrix(ytest, y_preds)[0][0]\n",
    "    FP = confusion_matrix(ytest, y_preds)[0][1]\n",
    "    FN = confusion_matrix(ytest, y_preds)[1][0]\n",
    "    TP = confusion_matrix(ytest, y_preds)[1][1]\n",
    "    FPR = FP / (FP + TN)\n",
    "    FNR = FN / (FN + TN)\n",
    "    return FPR, FNR"
   ]
  },
  {
   "cell_type": "code",
   "execution_count": 40,
   "metadata": {
    "ExecuteTime": {
     "end_time": "2020-10-11T09:35:22.749553Z",
     "start_time": "2020-10-11T09:35:17.315972Z"
    }
   },
   "outputs": [
    {
     "name": "stdout",
     "output_type": "stream",
     "text": [
      "Overall model accuracy: 69.47%\n",
      "\n",
      "False Positive Rate (African American): 31.30%\n",
      "False Positive Rate (Caucasian): 16.32%\n",
      "\n",
      "False Negative Rate (African American): 30.32%\n",
      "False Negative Rate (Caucasian): 27.51%\n",
      "\n",
      "Ratio of the FPR between African_Americans and Caucasians: 1.918\n",
      "Ratio of the FNR between African_Americans and Caucasians: 1.102\n"
     ]
    }
   ],
   "source": [
    "# instantiate logistic regression model\n",
    "log_clf = LogisticRegression(random_state=42, max_iter=10000)\n",
    "# fit on the training set\n",
    "log_clf.fit(Xtrain, ytrain)\n",
    "# predict on validation set\n",
    "y_preds = log_clf.predict(Xtest)\n",
    "\n",
    "aa_preds = log_clf.predict(X_aa)\n",
    "cc_preds = log_clf.predict(X_cc)\n",
    "\n",
    "fpr_aa, fnr_aa = cal_fpr_fnr(y_aa, aa_preds)\n",
    "fpr_cc, fnr_cc = cal_fpr_fnr(y_cc, cc_preds)\n",
    "\n",
    "fpr_ratio = fpr_aa/fpr_cc\n",
    "fnr_ratio = fnr_aa/fnr_cc\n",
    "\n",
    "# calculate overall accuracy\n",
    "acc = accuracy_score(ytest, y_preds)\n",
    "\n",
    "# Display Overall Accuracy, FPR and FNR for two races\n",
    "\n",
    "print(\"Overall model accuracy: {:.2f}%\".format(acc*100))\n",
    "print(\"\\nFalse Positive Rate (African American): {:.2f}%\".format(fpr_aa * 100))\n",
    "print(\"False Positive Rate (Caucasian): {:.2f}%\".format(fpr_cc * 100))\n",
    "\n",
    "print(\"\\nFalse Negative Rate (African American): {:.2f}%\".format(fnr_aa * 100))\n",
    "print(\"False Negative Rate (Caucasian): {:.2f}%\".format(fnr_cc * 100))\n",
    "\n",
    "print(\"\\nRatio of the FPR between African_Americans and Caucasians: {:.3f}\".format(fpr_ratio))\n",
    "print(\"Ratio of the FNR between African_Americans and Caucasians: {:.3f}\".format(fnr_ratio))"
   ]
  },
  {
   "cell_type": "markdown",
   "metadata": {},
   "source": [
    "### 2.2\n",
    "<b>\n",
    "What do you observe? Is there any disparity in the $FPR$ and $FNR$ for the two groups?\n",
    "Explain your findings in 3-6 sentences."
   ]
  },
  {
   "cell_type": "markdown",
   "metadata": {},
   "source": [
    "**It is evident from the FPR that the African American community as per the given data is more likely to be wrongly accussed for crimes they did not commit twice as more as compared to the Caucasians. And the disparity becomes even more obvious when we look at the FNR for both communities which are almost the same indicating that there is hardly any bias present when not correctly idfentifying criminals.**"
   ]
  },
  {
   "cell_type": "markdown",
   "metadata": {},
   "source": [
    "<div class=\"alert alert-block alert-danger\" style=\"color:black;background-color:#EFF8D0\">\n",
    "    \n",
    "**Question 3: 'Race'less model fitting [16 points]**\n",
    " \n",
    "**3.1** [10pts] Refit the logistic model in 2.1 but this time **without** `race` as a predictor. \n",
    "Again, Report the following on the **validation set**:\n",
    "1. Overall model accuracy as a percentage\n",
    "2. **False Positive Rate(FPR)** as a percentage for:\n",
    "    - African Americans\n",
    "    - Caucasians\n",
    "2. **False Negative Rate(FNR)** as a percentage for:\n",
    "    - African Americans\n",
    "    - Caucasians\n",
    "3. \n",
    "    - Ratio of the FPR between `African_Americans` and `Caucasians`\n",
    "    - Ratio of the FNR between `African_Americans` and `Caucasians`\n",
    "\n",
    "i.e $\\frac{FPR(AA)}{FPR(CC)}$ and $\\frac{FNR(AA)}{FNR(CC)}$\n",
    "\n",
    "\n",
    "<br /><br />\n",
    "\n",
    "**3.2** [2pts] Now, without the `race` as a predictor, what do you observe? \n",
    "<br /><br />\n",
    "**3.3** [2pts] How do these compare to the model when the race **is** included as a predictor?\n",
    "<br /><br />\n",
    "**3.4** [2pts] Given your exploration and modeling of the data, should a predictive tool be trusted to be unbiased even if it doesn’t explicitly use a variable such as race to predict future crime?  Why or why not?  Why is the bias still occurring or not occurring?  Explain in 3-6 sentences total.\n"
   ]
  },
  {
   "cell_type": "markdown",
   "metadata": {},
   "source": [
    "## Solutions"
   ]
  },
  {
   "cell_type": "markdown",
   "metadata": {},
   "source": [
    "### 3.1\n",
    "<b>\n",
    "Refit the logistic model in 2.1 but this time without race as a predictor. "
   ]
  },
  {
   "cell_type": "code",
   "execution_count": 41,
   "metadata": {
    "ExecuteTime": {
     "end_time": "2020-10-11T09:50:19.186724Z",
     "start_time": "2020-10-11T09:50:19.140022Z"
    }
   },
   "outputs": [],
   "source": [
    "# assign predictor and response variable\n",
    "X_new = df_dummies.drop([\"two_year_recid\", \"race_Caucasian\"], axis=1)\n",
    "y = df_dummies.two_year_recid\n",
    "\n",
    "# assigining data related to African Americans only\n",
    "X_aa_new = X_aa.drop(\"race_Caucasian\", axis=1)\n",
    "y_aa_new = y[X.race_Caucasian == 0]\n",
    "\n",
    "# assigining data related to Caucasian only\n",
    "X_cc_new = X_cc.drop(\"race_Caucasian\", axis=1)\n",
    "y_cc_new = y[X.race_Caucasian == 1]\n",
    "\n",
    "# split the dataframe\n",
    "Xtrain, Xtest, ytrain, ytest = train_test_split(X_new, y, test_size=0.2, random_state=42)"
   ]
  },
  {
   "cell_type": "code",
   "execution_count": 42,
   "metadata": {
    "ExecuteTime": {
     "end_time": "2020-10-11T09:50:26.676708Z",
     "start_time": "2020-10-11T09:50:21.564853Z"
    }
   },
   "outputs": [
    {
     "name": "stdout",
     "output_type": "stream",
     "text": [
      "Overall model accuracy: 67.16%\n",
      "\n",
      "False Positive Rate (African American): 29.90%\n",
      "False Positive Rate (Caucasian): 16.23%\n",
      "\n",
      "False Negative Rate (African American): 30.56%\n",
      "False Negative Rate (Caucasian): 27.82%\n",
      "\n",
      "Ratio of the FPR between African_Americans and Caucasians: 1.842\n",
      "Ratio of the FNR between African_Americans and Caucasians: 1.099\n"
     ]
    }
   ],
   "source": [
    "# Refitting the logistic model wihtout race as a predictor\n",
    "log_clf.fit(Xtrain, ytrain)\n",
    "# predict on validation set\n",
    "y_preds = log_clf.predict(Xtest)\n",
    "\n",
    "aa_preds = log_clf.predict(X_aa_new)\n",
    "cc_preds = log_clf.predict(X_cc_new)\n",
    "\n",
    "fpr_aa, fnr_aa = cal_fpr_fnr(y_aa_new, aa_preds)\n",
    "fpr_cc, fnr_cc = cal_fpr_fnr(y_cc_new, cc_preds)\n",
    "\n",
    "fpr_ratio = fpr_aa/fpr_cc\n",
    "fnr_ratio = fnr_aa/fnr_cc\n",
    "\n",
    "# calculate overall accuracy\n",
    "acc = accuracy_score(ytest, y_preds)\n",
    "\n",
    "# Display Overall Accuracy, FPR and FNR for two races\n",
    "\n",
    "print(\"Overall model accuracy: {:.2f}%\".format(acc*100))\n",
    "print(\"\\nFalse Positive Rate (African American): {:.2f}%\".format(fpr_aa * 100))\n",
    "print(\"False Positive Rate (Caucasian): {:.2f}%\".format(fpr_cc * 100))\n",
    "\n",
    "print(\"\\nFalse Negative Rate (African American): {:.2f}%\".format(fnr_aa * 100))\n",
    "print(\"False Negative Rate (Caucasian): {:.2f}%\".format(fnr_cc * 100))\n",
    "\n",
    "print(\"\\nRatio of the FPR between African_Americans and Caucasians: {:.3f}\".format(fpr_ratio))\n",
    "print(\"Ratio of the FNR between African_Americans and Caucasians: {:.3f}\".format(fnr_ratio))"
   ]
  },
  {
   "cell_type": "markdown",
   "metadata": {},
   "source": [
    "### 3.2\n",
    "<b>\n",
    "Now, without the race as a predictor, what do you observe?"
   ]
  },
  {
   "cell_type": "markdown",
   "metadata": {},
   "source": [
    "**The answer stays the same.**"
   ]
  },
  {
   "cell_type": "markdown",
   "metadata": {},
   "source": [
    "### 3.3\n",
    "<b>How do these compare to the model when the race is included as a predictor?"
   ]
  },
  {
   "cell_type": "markdown",
   "metadata": {},
   "source": [
    "**Your answer here**"
   ]
  },
  {
   "cell_type": "markdown",
   "metadata": {},
   "source": [
    "### 3.4\n",
    "<b>Given your exploration and modeling of the data, should a predictive tool be trusted to be unbiased even if it doesn’t explicitly use a variable such as race to predict future crime?  Why or why not?  Why is the bias still occurring or not occurring?  Explain in 3-6 sentences total.\n"
   ]
  },
  {
   "cell_type": "markdown",
   "metadata": {},
   "source": [
    "**Your answer here**"
   ]
  },
  {
   "cell_type": "markdown",
   "metadata": {},
   "source": [
    "<div class=\"alert alert-block alert-danger\" style=\"color:black;background-color:#EFF8D0\">\n",
    "    \n",
    "**Question 4: Receiver Operating Characteristic curve [10 points]**\n",
    "\n",
    "**4.1** [5pts] Use logistic regression & upsampling methods from above and plot the *Receiver Operating Characteristic curve* for two races, `African Americans` & `Caucasians`. \n",
    "<br /><br />\n",
    "**4.2** [5pts] You will notice that changing the thresholds can *reduce* bias between the two classes, but it can also affect model accuracy. We want our model to be **accurate** but also **unbiased**. So what shall we do?\n",
    "\n",
    "- Remove bias?\n",
    "- Lose model accuracy?\n",
    "\n",
    "Write down your strategy to overcome this difficulty. Please keep your answers short (300 word limit)\n"
   ]
  },
  {
   "cell_type": "markdown",
   "metadata": {},
   "source": [
    "## Solutions"
   ]
  },
  {
   "cell_type": "markdown",
   "metadata": {},
   "source": [
    "### 4.1\n",
    "<b>\n",
    "Use logistic regression & upsampling methods from above and plot the Receiver Operating Characteristic curve for two races, African Americans & Caucasians."
   ]
  },
  {
   "cell_type": "code",
   "execution_count": 53,
   "metadata": {
    "ExecuteTime": {
     "end_time": "2020-10-11T10:17:10.426213Z",
     "start_time": "2020-10-11T10:17:04.918602Z"
    }
   },
   "outputs": [
    {
     "name": "stdout",
     "output_type": "stream",
     "text": [
      "0.7091354567728386 0.7087737843551797\n"
     ]
    }
   ],
   "source": [
    "# assign predictor and response variable\n",
    "X = df_dummies.drop(\"two_year_recid\", axis=1)\n",
    "y = df_dummies.two_year_recid\n",
    "\n",
    "# assigining data related to African Americans only\n",
    "X_aa = X[X.race_Caucasian == 0]\n",
    "y_aa = y[X.race_Caucasian == 0]\n",
    "\n",
    "# assigining data related to Caucasian only\n",
    "X_cc = X[X.race_Caucasian == 1]\n",
    "y_cc = y[X.race_Caucasian == 1]\n",
    "\n",
    "# split the dataframe\n",
    "Xtrain, Xtest, ytrain, ytest = train_test_split(X, y, test_size=0.2, random_state=42, stratify=df_dummies.race_Caucasian)\n",
    "\n",
    "log_clf = LogisticRegression(random_state=42, max_iter=10000)\n",
    "# fit on the training set\n",
    "log_clf.fit(Xtrain, ytrain)\n",
    "\n",
    "# predict on validation set\n",
    "y_preds = log_clf.predict_proba(Xtest)\n",
    "\n",
    "aa_preds = log_clf.predict_proba(X_aa)\n",
    "cc_preds = log_clf.predict_proba(X_cc)\n"
   ]
  },
  {
   "cell_type": "code",
   "execution_count": 48,
   "metadata": {
    "ExecuteTime": {
     "end_time": "2020-10-11T10:08:18.221704Z",
     "start_time": "2020-10-11T10:08:18.202131Z"
    }
   },
   "outputs": [],
   "source": [
    "aa_scores = aa_preds[:,1]\n",
    "FPRa, TPRa, thresholda = roc_curve(y_aa, aa_scores) # accuracy scores for both ~ 0.70\n",
    "\n",
    "cc_scores = cc_preds[:,1]\n",
    "FPRc, TPRc, thresholdc = roc_curve(y_cc, cc_scores)"
   ]
  },
  {
   "cell_type": "code",
   "execution_count": 50,
   "metadata": {
    "ExecuteTime": {
     "end_time": "2020-10-11T10:09:09.479286Z",
     "start_time": "2020-10-11T10:09:08.822870Z"
    }
   },
   "outputs": [
    {
     "data": {
      "text/plain": [
       "<matplotlib.legend.Legend at 0x7fd91459c0d0>"
      ]
     },
     "execution_count": 50,
     "metadata": {},
     "output_type": "execute_result"
    },
    {
     "data": {
      "image/png": "[encoded data removed]",
      "text/plain": [
       "<Figure size 432x288 with 1 Axes>"
      ]
     },
     "metadata": {},
     "output_type": "display_data"
    }
   ],
   "source": [
    "plt.plot(FPRa, TPRa, label='African American')\n",
    "plt.plot(FPRc, TPRc, label='Caucasian')\n",
    "plt.legend()"
   ]
  },
  {
   "cell_type": "code",
   "execution_count": 61,
   "metadata": {
    "ExecuteTime": {
     "end_time": "2020-10-11T10:34:32.994931Z",
     "start_time": "2020-10-11T10:34:32.967438Z"
    }
   },
   "outputs": [],
   "source": [
    "def plot_roc(test1,test2, logprobs,knnprobs,axis):\n",
    "    fpr, tpr, thresholds = roc_curve(test1, logprobs)\n",
    "    kfpr, ktpr, kthresholds = roc_curve(test2, knnprobs)\n",
    "    #ax.plot(fpr, tpr, label=f'Logistic Regression (area = {logreg_auc:.2f})', color = 'b')\n",
    "    #ax.plot(kfpr, ktpr, label=f'KNN (area = {knnreg_auc:.2f})', color = 'g')  \n",
    "    label_kwargs = {}\n",
    "    label_kwargs['bbox'] = dict(\n",
    "        boxstyle='round,pad=0.3', alpha=0.4,\n",
    "    )\n",
    "    #\n",
    "    for k in range(0, fpr.shape[0],10):\n",
    "        #from https://gist.github.com/podshumok/c1d1c9394335d86255b8\n",
    "        threshold = str(np.round(thresholds[k], 2))\n",
    "        ax.annotate(threshold, (fpr[k], tpr[k]), **label_kwargs)\n",
    "\n",
    "    #for k in range(1, kfpr.shape[0]):\n",
    "        #from https://gist.github.com/podshumok/c1d1c9394335d86255b8\n",
    "        #threshold = str(np.round(kthresholds[k], 2))\n",
    "        #ax.annotate(threshold, (kfpr[k], ktpr[k]),color='r', **label_kwargs)\n",
    "\n",
    "    ax.plot([0, 1], [0, 1],'r--')\n",
    "    ax.set_xlim([0.0, 1.0])\n",
    "    ax.set_ylim([0.0, 1.05])\n",
    "\n",
    "    ax.set_xlabel('False Positive Rate')\n",
    "    ax.set_ylabel('True Positive Rate')\n",
    "    ax.set_title('Receiver operating characteristic')\n",
    "    ax.legend(loc=\"lower right\")\n"
   ]
  },
  {
   "cell_type": "code",
   "execution_count": 62,
   "metadata": {
    "ExecuteTime": {
     "end_time": "2020-10-11T10:34:35.757022Z",
     "start_time": "2020-10-11T10:34:33.708725Z"
    }
   },
   "outputs": [
    {
     "name": "stderr",
     "output_type": "stream",
     "text": [
      "No handles with labels found to put in legend.\n"
     ]
    },
    {
     "data": {
      "image/png": "[encoded data removed]",
      "text/plain": [
       "<Figure size 1008x576 with 1 Axes>"
      ]
     },
     "metadata": {},
     "output_type": "display_data"
    }
   ],
   "source": [
    "#ROC Curve values\n",
    "plt.style.use('seaborn-white')\n",
    "y_aaprobs = log_clf.predict_proba(X_aa)[:,1]\n",
    "y_ccprobs = log_clf.predict_proba(X_cc)[:,1]\n",
    "fig, ax = plt.subplots(figsize = (14,8))\n",
    "plot_roc(y_aa,y_cc, y_aaprobs,y_ccprobs,ax)"
   ]
  },
  {
   "cell_type": "markdown",
   "metadata": {},
   "source": [
    "### 4.2\n",
    "<b>\n",
    "How to ensure the model is accuracte and unbiased? Please keep your answers short (300 word limit)"
   ]
  },
  {
   "cell_type": "markdown",
   "metadata": {},
   "source": [
    "**Your answer here**"
   ]
  },
  {
   "cell_type": "markdown",
   "metadata": {},
   "source": [
    "<div class=\"alert alert-block alert-danger\" style=\"color:black;background-color:#EFF8D0\">\n",
    "<h2 style=\"color:black;background-color:#EFF8D0\"> Part C: Come up with a better model [20 points total] \n",
    "</h2>  \n",
    "    \n",
    "Improve the models you have previously coded by including:\n",
    " - Polynomial terms\n",
    " - Interaction terms\n",
    " - Regularization parameters\n",
    " - Different upsampling techniques\n",
    " - KNN classification\n",
    "\n",
    "with a goal to maximize the new metric which includes both the bias and the accuracy, we define `Bias_Corrected_Accuracy(BCA)` as:\n",
    "    \n",
    "\n",
    "$$BCA = Acccuracy - {\\left|FPR(AA) - FPR(CC)\\right|}$$\n",
    "    \n",
    " \n",
    "Please report your maximum `BCA` on the forums and add the computation code to your homework for bonus points.\n",
    "\n",
    "**Note:** The ideas given above are not exhaustive. You are free to try other betters to come up with a better model.\n",
    "\n"
   ]
  },
  {
   "cell_type": "code",
   "execution_count": null,
   "metadata": {
    "ExecuteTime": {
     "end_time": "2020-10-11T09:16:21.542643Z",
     "start_time": "2020-10-11T09:16:11.738Z"
    }
   },
   "outputs": [],
   "source": [
    "#your code here"
   ]
  }
 ],
 "metadata": {
  "kernelspec": {
   "display_name": "Python 3",
   "language": "python",
   "name": "python3"
  },
  "language_info": {
   "codemirror_mode": {
    "name": "ipython",
    "version": 3
   },
   "file_extension": ".py",
   "mimetype": "text/x-python",
   "name": "python",
   "nbconvert_exporter": "python",
   "pygments_lexer": "ipython3",
   "version": "3.8.3"
  },
  "toc": {
   "base_numbering": 1,
   "nav_menu": {},
   "number_sections": true,
   "sideBar": true,
   "skip_h1_title": false,
   "title_cell": "Table of Contents",
   "title_sidebar": "Contents",
   "toc_cell": false,
   "toc_position": {},
   "toc_section_display": true,
   "toc_window_display": false
  }
 },
 "nbformat": 4,
 "nbformat_minor": 4
}
