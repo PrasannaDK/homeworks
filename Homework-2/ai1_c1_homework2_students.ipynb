{
 "cells": [
  {
   "cell_type": "markdown",
   "metadata": {},
   "source": [
    "![](fig/univ.png)\n",
    "\n",
    "# AI-1: ML/AI Basics\n",
    "## Homework 2: Regression Modeling and Bacteria Growth\n",
    "\n",
    "**AI1 Cohort 1**<br/>\n",
    "**Univ.AI**<br/>\n",
    "**Instructor**: Pavlos Protopapas\n",
    "\n",
    "<hr style=\"height:2.4pt\">"
   ]
  },
  {
   "cell_type": "code",
   "execution_count": 1,
   "metadata": {
    "ExecuteTime": {
     "end_time": "2020-10-02T13:04:07.439557Z",
     "start_time": "2020-10-02T13:04:07.171658Z"
    }
   },
   "outputs": [],
   "source": [
    "#RUN THIS CELL \n",
    "import requests\n",
    "from IPython.core.display import HTML\n"
   ]
  },
  {
   "cell_type": "markdown",
   "metadata": {},
   "source": [
    "### Import Libraries"
   ]
  },
  {
   "cell_type": "code",
   "execution_count": 2,
   "metadata": {
    "ExecuteTime": {
     "end_time": "2020-10-02T13:04:09.161454Z",
     "start_time": "2020-10-02T13:04:07.439557Z"
    }
   },
   "outputs": [],
   "source": [
    "%matplotlib inline\n",
    "import math\n",
    "import numpy as np\n",
    "import pandas as pd\n",
    "import seaborn as sns\n",
    "from collections import Counter\n",
    "import matplotlib.pyplot as plt\n",
    "from sklearn.utils import shuffle\n",
    "from sklearn.linear_model import Lasso\n",
    "from sklearn.preprocessing import StandardScaler\n",
    "from sklearn.metrics import mean_squared_error\n",
    "from sklearn.linear_model import LinearRegression\n",
    "from sklearn.model_selection import cross_validate\n",
    "from sklearn.model_selection import train_test_split\n",
    "from sklearn.preprocessing import PolynomialFeatures\n",
    "\n",
    "import warnings"
   ]
  },
  {
   "cell_type": "markdown",
   "metadata": {},
   "source": [
    "<hr style=\"height:2pt\">\n",
    "\n",
    "### INSTRUCTIONS\n",
    "\n",
    "\n",
    "- This homework is a jupyter notebook. Download and work on it in your local machine.\n",
    "\n",
    "- This homework should be submitted in pairs.\n",
    "\n",
    "- Ensure you and your partner together have submitted the homework only once. Multiple submissions of the same work will be penalised and will cost you 2 points.\n",
    "\n",
    "- Please restart the kernel and run the entire notebook again before you submit.\n",
    "\n",
    "- Running cells out of order is a common pitfall in Jupyter Notebooks. To make sure your code works restart the kernel and run the whole notebook again before you submit. \n",
    "\n",
    "- To submit the homework, either one of you upload the working notebook on edStem and click the submit button on the bottom right corner.\n",
    "\n",
    "- Submit the homework well before the given deadline. Submissions after the deadline will not be graded.\n",
    "\n",
    "- We have tried to include all the libraries you may need to do the assignment in the imports statement at the top of this notebook. We strongly suggest that you use those and not others as we may not be familiar with them.\n",
    "\n",
    "- Comment your code well. This would help the graders in case there is any issue with the notebook while running. It is important to remember that the graders will not troubleshoot your code. \n",
    "\n",
    "- Please use .head() when viewing data. Do not submit a notebook that is **excessively long**. \n",
    "\n",
    "- In questions that require code to answer, such as \"calculate the $R^2$\", do not just output the value from a cell. Write a `print()` function that includes a reference to the calculated value, **not hardcoded**. For example: \n",
    "```\n",
    "print(f'The R^2 is {R:.4f}')\n",
    "```\n",
    "- Your plots should include clear labels for the $x$ and $y$ axes as well as a descriptive title (\"MSE plot\" is not a descriptive title; \"95 % confidence interval of coefficients of polynomial degree 5\" is).\n",
    "\n",
    "- **Ensure you make appropraite plots for all the questions it is applicable to, regardless of it being explicitly asked for.**\n",
    "\n",
    "<hr style=\"height:2pt\">"
   ]
  },
  {
   "cell_type": "markdown",
   "metadata": {},
   "source": [
    "### Names of the people who worked on this homework together\n",
    "#### /Wang Dorjee Sherpa/ Rovina add your full name"
   ]
  },
  {
   "cell_type": "markdown",
   "metadata": {},
   "source": [
    "\n",
    "<div class=\"theme\"> <h1>Overview and Data Description</div> </h1>\n",
    "\n",
    "### Predicting percentage change in multiple bacteria populations given their spreading factor.\n",
    "\n",
    "\n",
    "In this homework, we will mainly explore polynomial regression for \n",
    "predicting a quantitative variable. Specifically, we will build \n",
    "regression models that can predict the percentage change in \n",
    "bacteria population after 4 hours based on their spreading factor. \n",
    "These prediction models can be useful in clustering of a novel bacteria to any class. \n",
    "\n",
    "If the percentage of change in population increases this indicates \n",
    "that the size of the bacteria population is growing. \n",
    "One important factor to note is that the percentage change could be negative. \n",
    "This indicates that within the specified time frame, \n",
    "the population of the bacteria decreases from the original size.\n",
    "\n",
    "The data set for this problem has already been split for you. You will find the train and test data sets in the files `data/bacteria_train.csv` and `data/bacteria_test.csv`, respectively. The first column in each file contains the spreading factor of bacteria populations and the second column gives information about the change in percentage of the population. \n",
    "\n",
    "\n",
    "\n",
    " ### Problem Description\n",
    "\n",
    "Given the bacteria data, we will try to predict the percentage change \n",
    "in population giving the spreading factor. \n",
    "Based on the data visualisation we can see that there seems to be a \n",
    "non-linear relationship between the 2 variables. For this exercise we \n",
    "will consider the `Spreading_factor` to be our predictor variable \n",
    "and `Perc_population` to be our response variable. \n",
    "We will fit a polynomial regression model for a specified degree that \n",
    "computes the respective degree predictors to fit a model on the \n",
    "training set which will be evaluated on the test set. \n",
    "The performance of the models should be evaluated using their $MSE$."
   ]
  },
  {
   "cell_type": "markdown",
   "metadata": {},
   "source": [
    "<div class=\"alert alert-block alert-danger\" style=\"color:black;background-color:#E7F4FA\">\n",
    "<h2 style=\"color:black;background-color:#E7F4FA\"> Part 1 </h2>    <br />\n",
    "\n",
    "<b> Question 1:   Data Visualization [10 points total]</b>\n",
    "    <br /><br />\n",
    "**1.1** [6 pts] Generate a scatter plot of the data points in the `bacteria_train.csv` \n",
    "file with the `Spreading factor` on the $X$-axis and the `Percentage` \n",
    "change on the $Y$-axis. Make sure you clearly label the $x$ and $y$ axes and include proper title. \n",
    "<br /><br />\n",
    "**1.2** [4 pts] Based on the graph, is there any discernable relationship between \n",
    "the spreading factor and percentage change in population?\n",
    "    \n",
    "</div>\n"
   ]
  },
  {
   "cell_type": "markdown",
   "metadata": {},
   "source": [
    "### Solutions"
   ]
  },
  {
   "cell_type": "markdown",
   "metadata": {},
   "source": [
    "### 1.1"
   ]
  },
  {
   "cell_type": "code",
   "execution_count": 3,
   "metadata": {
    "ExecuteTime": {
     "end_time": "2020-10-02T13:04:09.221026Z",
     "start_time": "2020-10-02T13:04:09.165439Z"
    }
   },
   "outputs": [
    {
     "data": {
      "text/html": [
       "<div>\n",
       "<style scoped>\n",
       "    .dataframe tbody tr th:only-of-type {\n",
       "        vertical-align: middle;\n",
       "    }\n",
       "\n",
       "    .dataframe tbody tr th {\n",
       "        vertical-align: top;\n",
       "    }\n",
       "\n",
       "    .dataframe thead th {\n",
       "        text-align: right;\n",
       "    }\n",
       "</style>\n",
       "<table border=\"1\" class=\"dataframe\">\n",
       "  <thead>\n",
       "    <tr style=\"text-align: right;\">\n",
       "      <th></th>\n",
       "      <th>Perc_population</th>\n",
       "      <th>Spreading_factor</th>\n",
       "    </tr>\n",
       "  </thead>\n",
       "  <tbody>\n",
       "    <tr>\n",
       "      <th>0</th>\n",
       "      <td>1.535</td>\n",
       "      <td>0.190708</td>\n",
       "    </tr>\n",
       "    <tr>\n",
       "      <th>1</th>\n",
       "      <td>5.555</td>\n",
       "      <td>0.326928</td>\n",
       "    </tr>\n",
       "    <tr>\n",
       "      <th>2</th>\n",
       "      <td>-0.277</td>\n",
       "      <td>-0.459699</td>\n",
       "    </tr>\n",
       "    <tr>\n",
       "      <th>3</th>\n",
       "      <td>1.724</td>\n",
       "      <td>-0.193013</td>\n",
       "    </tr>\n",
       "    <tr>\n",
       "      <th>4</th>\n",
       "      <td>-0.550</td>\n",
       "      <td>-0.835745</td>\n",
       "    </tr>\n",
       "  </tbody>\n",
       "</table>\n",
       "</div>"
      ],
      "text/plain": [
       "   Perc_population  Spreading_factor\n",
       "0            1.535          0.190708\n",
       "1            5.555          0.326928\n",
       "2           -0.277         -0.459699\n",
       "3            1.724         -0.193013\n",
       "4           -0.550         -0.835745"
      ]
     },
     "execution_count": 3,
     "metadata": {},
     "output_type": "execute_result"
    }
   ],
   "source": [
    "df = pd.read_csv('data/bacteria_train.csv')\n",
    "df.head()"
   ]
  },
  {
   "cell_type": "code",
   "execution_count": 4,
   "metadata": {
    "ExecuteTime": {
     "end_time": "2020-10-02T13:04:09.566078Z",
     "start_time": "2020-10-02T13:04:09.225028Z"
    },
    "scrolled": true
   },
   "outputs": [
    {
     "data": {
      "image/png": "[encoded data removed]",
      "text/plain": [
       "<Figure size 720x288 with 1 Axes>"
      ]
     },
     "metadata": {
      "needs_background": "light"
     },
     "output_type": "display_data"
    }
   ],
   "source": [
    "plt.figure(figsize=(10, 4))\n",
    "sns.scatterplot(x='Spreading_factor', y='Perc_population', data=df)\n",
    "plt.title(\"Percentage change in population given the spreading factor\")\n",
    "plt.xlabel(\"Spreading Factor\")\n",
    "plt.ylabel(\"Percentage Change\")\n",
    "plt.show()"
   ]
  },
  {
   "cell_type": "markdown",
   "metadata": {},
   "source": [
    "### 1.2"
   ]
  },
  {
   "cell_type": "markdown",
   "metadata": {},
   "source": [
    "**There is a non linear trend between the spreading factor and  percentage change.**"
   ]
  },
  {
   "cell_type": "markdown",
   "metadata": {},
   "source": [
    "### Solution Roadmap \n",
    "\n",
    "The following figure will give a brief idea of the concepts that are covered in the following sections of this homework.\n",
    "\n",
    "\n",
    "![](fig/soln-roadmap.png)"
   ]
  },
  {
   "cell_type": "markdown",
   "metadata": {},
   "source": [
    "<div class=\"alert alert-block alert-danger\" style=\"color:black;background-color:#E7F4FA\">\n",
    "\n",
    "<h2 style=\"color:black;background-color:#E7F4FA\"> Part 2 </h2>    <br />\n",
    "<b> Question 2:   Model Building: Guesstimate the non-linear relationship [10 points total]</b>\n",
    "<br /><br />\n",
    "<b>2.1</b> [5 pts] Examine the relationship between the predictor & response variable, and guesstimate the degree of the polynomial regression that may best fit the data.\n",
    "<br />\n",
    "- Fit a polynomial regression on the training set.\n",
    "<br />\n",
    "- Compute the mean_squared_error on the test set.\n",
    "<br />\n",
    "- Plot a graph that displays the true data and the predicted data.\n",
    "<br />\n",
    "\n",
    "    \n",
    "**Hints**\n",
    "<br />\n",
    "- Try guesstimating with different degrees\n",
    "<br /><br />\n",
    "<b> Why this maybe a good idea? </b>\n",
    "<br />\n",
    "- This can help you get a quick baseline\n",
    "<br />\n",
    "- The exercise will help you understand the relationship between the variables of the dataset\n",
    "<br /><br />\n",
    "<b> Why this maybe a bad idea?</b>\n",
    "<br />\n",
    "- Not a robust method because it's based on your guess\n",
    "<br />\n",
    "- It may lead you to make unjustified assumptions\n",
    "    \n",
    "    \n",
    "</div>\n"
   ]
  },
  {
   "cell_type": "markdown",
   "metadata": {},
   "source": [
    "### Solutions"
   ]
  },
  {
   "cell_type": "markdown",
   "metadata": {},
   "source": [
    "### 2.1"
   ]
  },
  {
   "cell_type": "code",
   "execution_count": 5,
   "metadata": {
    "ExecuteTime": {
     "end_time": "2020-10-02T13:04:09.581833Z",
     "start_time": "2020-10-02T13:04:09.566078Z"
    }
   },
   "outputs": [],
   "source": [
    "# Make a global dictionary to save the MSE values\n",
    "test_mse_dict = {}"
   ]
  },
  {
   "cell_type": "code",
   "execution_count": 6,
   "metadata": {
    "ExecuteTime": {
     "end_time": "2020-10-02T13:04:09.598099Z",
     "start_time": "2020-10-02T13:04:09.583787Z"
    }
   },
   "outputs": [],
   "source": [
    "# Read the data \n",
    "train_df = pd.read_csv('data/bacteria_train.csv')\n",
    "test_df = pd.read_csv('data/bacteria_test.csv')"
   ]
  },
  {
   "cell_type": "code",
   "execution_count": 7,
   "metadata": {
    "ExecuteTime": {
     "end_time": "2020-10-02T13:04:09.612856Z",
     "start_time": "2020-10-02T13:04:09.598099Z"
    }
   },
   "outputs": [],
   "source": [
    "# Select predictor and response variable on both train and test set\n",
    "x_train = train_df[['Spreading_factor']]\n",
    "y_train = train_df.Perc_population\n",
    "\n",
    "x_test = test_df[['Spreading_factor']]\n",
    "y_test = test_df.Perc_population "
   ]
  },
  {
   "cell_type": "code",
   "execution_count": 8,
   "metadata": {
    "ExecuteTime": {
     "end_time": "2020-10-02T13:04:09.627854Z",
     "start_time": "2020-10-02T13:04:09.616853Z"
    }
   },
   "outputs": [],
   "source": [
    "#Guesstimate degree of the curve\n",
    "degree = 10\n",
    "# transform dta using PolynomialFeatures\n",
    "x_train_poly = PolynomialFeatures(degree).fit_transform(x_train)\n",
    "x_test_poly = PolynomialFeatures(degree).fit_transform(x_test)\n"
   ]
  },
  {
   "cell_type": "code",
   "execution_count": 9,
   "metadata": {
    "ExecuteTime": {
     "end_time": "2020-10-02T13:04:09.657919Z",
     "start_time": "2020-10-02T13:04:09.630860Z"
    }
   },
   "outputs": [
    {
     "data": {
      "text/plain": [
       "LinearRegression(copy_X=True, fit_intercept=False, n_jobs=None, normalize=False)"
      ]
     },
     "execution_count": 9,
     "metadata": {},
     "output_type": "execute_result"
    }
   ],
   "source": [
    "# Fit linear regression with a guessed degree\n",
    "poly_reg = LinearRegression(fit_intercept=False)\n",
    "poly_reg.fit(x_train_poly, y_train)"
   ]
  },
  {
   "cell_type": "code",
   "execution_count": 10,
   "metadata": {
    "ExecuteTime": {
     "end_time": "2020-10-02T13:04:09.673688Z",
     "start_time": "2020-10-02T13:04:09.657919Z"
    }
   },
   "outputs": [
    {
     "name": "stdout",
     "output_type": "stream",
     "text": [
      "The mse on  test set with polynomial degree 10 is 2.6280\n"
     ]
    }
   ],
   "source": [
    "#Compute the mean_squared_error on the test set and name it mse \n",
    "\n",
    "# predict on x_test_poly\n",
    "y_preds = poly_reg.predict(x_test_poly)\n",
    "# calculate mse\n",
    "mse = mean_squared_error(y_test, y_preds)\n",
    "\n",
    "print(f\"The mse on  test set with polynomial degree {degree} is {mse:.4f}\")"
   ]
  },
  {
   "cell_type": "code",
   "execution_count": 11,
   "metadata": {
    "ExecuteTime": {
     "end_time": "2020-10-02T13:04:09.991764Z",
     "start_time": "2020-10-02T13:04:09.677689Z"
    },
    "scrolled": true
   },
   "outputs": [
    {
     "data": {
      "image/png": "[encoded data removed]",
      "text/plain": [
       "<Figure size 720x360 with 1 Axes>"
      ]
     },
     "metadata": {
      "needs_background": "light"
     },
     "output_type": "display_data"
    }
   ],
   "source": [
    "# Plot the actual data and predicted data\n",
    "\n",
    "plt.figure(figsize=(10, 5))\n",
    "plt.scatter(x_test, y_test, label=\"Actual Data\")\n",
    "plt.plot(x_test, y_preds, label=\"Predicted Data\")\n",
    "plt.title(\"Actual Data and Predicted Data Visualization\")\n",
    "plt.xlabel(\"Spreading Factor\")\n",
    "plt.ylabel(\"Percentage Change\")\n",
    "plt.legend()\n",
    "plt.show()"
   ]
  },
  {
   "cell_type": "code",
   "execution_count": 12,
   "metadata": {
    "ExecuteTime": {
     "end_time": "2020-10-02T13:04:10.006997Z",
     "start_time": "2020-10-02T13:04:09.995767Z"
    }
   },
   "outputs": [],
   "source": [
    "# add prediction to the test dataset and sort using prediction\n",
    "test_df['Prediction'] = y_preds\n",
    "test_df = test_df.sort_values(by='Prediction')"
   ]
  },
  {
   "cell_type": "code",
   "execution_count": 13,
   "metadata": {
    "ExecuteTime": {
     "end_time": "2020-10-02T13:04:10.373818Z",
     "start_time": "2020-10-02T13:04:10.009998Z"
    }
   },
   "outputs": [
    {
     "data": {
      "image/png": "[encoded data removed]",
      "text/plain": [
       "<Figure size 576x432 with 1 Axes>"
      ]
     },
     "metadata": {
      "needs_background": "light"
     },
     "output_type": "display_data"
    }
   ],
   "source": [
    "fig = plt.figure(figsize=(8, 6))\n",
    "fig.clf()\n",
    "ax = fig.gca()\n",
    "test_df.plot(kind = 'scatter', x = 'Spreading_factor', y = 'Perc_population', ax = ax, label=\"actual\")\n",
    "test_df.plot(kind = 'line', x = 'Spreading_factor', y = 'Prediction', color='r', ax =ax, label=\"predicted\")\n",
    "ax.set_ylabel(\"Percentage Change\")\n",
    "ax.set_xlabel(\"Spreading Factor\")\n",
    "ax.set_title(\"Actual Data and Predicted Data Visualization\")\n",
    "ax.legend()\n",
    "plt.show()"
   ]
  },
  {
   "cell_type": "markdown",
   "metadata": {},
   "source": [
    "<div class=\"alert alert-block alert-danger\" style=\"color:black;background-color:#E7F4FA\">\n",
    "<h2 style=\"color:black;background-color:#E7F4FA\"> Part 3 </h2>    <br /><br />\n",
    "\n",
    "<b> Question 3:   Use a validation set to find the most promising non-linear relationship [12 points total]</b>\n",
    "<br />\n",
    "**3.1** [4 pts] Take out a small fraction of the training set for **validation**.<br /><br />\n",
    "- For each degree of the polynomial<br />\n",
    "     - Fit a polynomial regression on the training set.<br />\n",
    "     - Calculate the mean_squared_error ($MSE$) on the *validation set*.<br />\n",
    "    \n",
    "- Compare the values of the validation set, and select the degree for which the validation error is the least.<br />\n",
    "- Plot the train and validation MSE for each degree.\n",
    "<br />\n",
    "\n",
    "**Hints**<br />\n",
    "- Limit the maximum degree to 50.<br />\n",
    "- Limit the number of bootstraps to 100.<br />\n",
    "- Use sklearn cross_validate() to perform cross validation.<br /><br />\n",
    "\n",
    "**3.2** [4 pts] Now, with the best selected degree, again train the polynomial regression on the **complete training set** (including the small fraction that you took out to make the validation set). \n",
    "Compute the $MSE$ on the test set.\n",
    "<br />\n",
    "Plot the true data and the predicted data.<br /><br />\n",
    "**3.3** [4 pts] Compute the confidence intervals  for the coefficients for the beta distribution and plot it. This is similar to the one you have done in the exercise.\n",
    "<br /><br />\n",
    "\n",
    "<b>Why this maybe a good idea? </b>\n",
    "<br />\n",
    "- Better than guesstimates<br />\n",
    "- Now you can compare models & make a more informed decision<br />\n",
    "- Still quick, & more reliable<br /><br />\n",
    "\n",
    "<b> Why this maybe a bad idea? </b>\n",
    "\n",
    "<br />\n",
    "- Still not a robust method because it depends on the choice of the validation set\n",
    "<br /><br />\n",
    "</div>  \n",
    "                                                                                                                                 "
   ]
  },
  {
   "cell_type": "markdown",
   "metadata": {},
   "source": [
    "### Solutions"
   ]
  },
  {
   "cell_type": "markdown",
   "metadata": {},
   "source": [
    "### 3.1"
   ]
  },
  {
   "cell_type": "code",
   "execution_count": 14,
   "metadata": {
    "ExecuteTime": {
     "end_time": "2020-10-02T13:04:10.403991Z",
     "start_time": "2020-10-02T13:04:10.377775Z"
    }
   },
   "outputs": [],
   "source": [
    "# your code here\n",
    "# reading the data\n",
    "train_df = pd.read_csv('data/bacteria_train.csv')\n",
    "x = train_df[['Spreading_factor']]\n",
    "y = train_df.Perc_population"
   ]
  },
  {
   "cell_type": "code",
   "execution_count": 15,
   "metadata": {
    "ExecuteTime": {
     "end_time": "2020-10-02T13:04:10.420093Z",
     "start_time": "2020-10-02T13:04:10.405057Z"
    }
   },
   "outputs": [],
   "source": [
    "# split the train data into train and validation sets \n",
    "# with 80% of the data as the train data and random_state=121\n",
    "x_train, x_val, y_train, y_val = train_test_split(x, y, test_size = 0.2, random_state = 121)"
   ]
  },
  {
   "cell_type": "code",
   "execution_count": 16,
   "metadata": {
    "ExecuteTime": {
     "end_time": "2020-10-02T13:04:10.875983Z",
     "start_time": "2020-10-02T13:04:10.422094Z"
    }
   },
   "outputs": [],
   "source": [
    "# your code here\n",
    "#selecting max degree\n",
    "max_degree = 50\n",
    "test_mse_dict = {}\n",
    "\n",
    "# create a list to save training and validation error\n",
    "train_error, validation_error = [], []\n",
    "\n",
    "for d in range(1, max_degree):\n",
    "    x_train_poly = PolynomialFeatures(d).fit_transform(x_train)\n",
    "    x_val_poly = PolynomialFeatures(d).fit_transform(x_val)\n",
    "    \n",
    "    # fitting polynomial regression\n",
    "    preg = LinearRegression(fit_intercept=False)\n",
    "    preg.fit(x_train_poly, y_train)\n",
    "    # predicting on train_set\n",
    "    y_train_pred  = preg.predict(x_train_poly)\n",
    "    y_val_pred = preg.predict(x_val_poly)\n",
    "    \n",
    "    # calculate mse on train and validation set\n",
    "    training_mse = mean_squared_error(y_train, y_train_pred)\n",
    "    validation_mse = mean_squared_error(y_val, y_val_pred)\n",
    "    \n",
    "    # append the training and validation errors\n",
    "    train_error.append(training_mse)\n",
    "    validation_error.append(validation_mse)\n",
    "    \n",
    "    # keep track of degree and mse\n",
    "    test_mse_dict[d] = validation_mse"
   ]
  },
  {
   "cell_type": "code",
   "execution_count": 17,
   "metadata": {
    "ExecuteTime": {
     "end_time": "2020-10-02T13:04:11.218251Z",
     "start_time": "2020-10-02T13:04:10.879986Z"
    }
   },
   "outputs": [
    {
     "name": "stdout",
     "output_type": "stream",
     "text": [
      "The best degree that has the lowest validation mse is: [8]\n"
     ]
    },
    {
     "data": {
      "image/png": "[encoded data removed]",
      "text/plain": [
       "<Figure size 720x432 with 1 Axes>"
      ]
     },
     "metadata": {
      "needs_background": "light"
     },
     "output_type": "display_data"
    }
   ],
   "source": [
    "# your code here\n",
    "# getting the best degree that has the lowest validation mse\n",
    "best_degree = [d for d in test_mse_dict if test_mse_dict[d] == min(test_mse_dict.values())]\n",
    "print(f\"The best degree that has the lowest validation mse is: {best_degree}\")\n",
    "\n",
    "# plotting training and validation mse with all the degrees\n",
    "plt.figure(figsize=(10, 6))\n",
    "plt.plot(range(1, 30), train_error[:29], label=\"Train MSE\")\n",
    "plt.plot(range(1, 30), validation_error[:29], label=\"Validation MSE\")\n",
    "plt.axvline(best_degree[0], color='red')\n",
    "plt.title(\"Training and Validation MSE with different degrees\")\n",
    "plt.xlabel(\"Degree\")\n",
    "plt.ylabel(\"Mean Squared Error\")\n",
    "plt.legend()\n",
    "plt.show()"
   ]
  },
  {
   "cell_type": "code",
   "execution_count": 18,
   "metadata": {
    "ExecuteTime": {
     "end_time": "2020-10-02T13:04:11.235189Z",
     "start_time": "2020-10-02T13:04:11.218251Z"
    },
    "scrolled": true
   },
   "outputs": [
    {
     "name": "stdout",
     "output_type": "stream",
     "text": [
      "Degree of the best model: 8\n",
      "Train MSE with best degree: 2.4286913285586915\n",
      "Validation MSE with best degree: 2.9179267521200223\n"
     ]
    }
   ],
   "source": [
    "# Print the train and validation MSE along with the degree of the best model. \n",
    "# To do this find the degree that gives the lowest MSE.\n",
    "# your code here\n",
    "print(f\"Degree of the best model: {best_degree[0]}\")\n",
    "print(f\"Train MSE with best degree: {train_error[best_degree[0]-1]}\")\n",
    "print(f\"Validation MSE with best degree: {validation_error[best_degree[0]-1]}\")"
   ]
  },
  {
   "cell_type": "markdown",
   "metadata": {},
   "source": [
    "### 3.2"
   ]
  },
  {
   "cell_type": "code",
   "execution_count": 19,
   "metadata": {
    "ExecuteTime": {
     "end_time": "2020-10-02T13:04:11.266618Z",
     "start_time": "2020-10-02T13:04:11.238184Z"
    }
   },
   "outputs": [],
   "source": [
    "# assign training and test set\n",
    "x_train = train_df[['Spreading_factor']]\n",
    "y_train = train_df.Perc_population\n",
    "\n",
    "x_test = test_df[['Spreading_factor']]\n",
    "y_test = test_df.Perc_population\n",
    "\n",
    "# transform training and test set with best polynomial degree found above\n",
    "x_train_poly = PolynomialFeatures(8).fit_transform(x_train)\n",
    "x_test_poly = PolynomialFeatures(8).fit_transform(x_test)"
   ]
  },
  {
   "cell_type": "code",
   "execution_count": 20,
   "metadata": {
    "ExecuteTime": {
     "end_time": "2020-10-02T13:04:11.294481Z",
     "start_time": "2020-10-02T13:04:11.269728Z"
    }
   },
   "outputs": [
    {
     "name": "stdout",
     "output_type": "stream",
     "text": [
      "Test MSE with degree 8: 2.613010637353005\n"
     ]
    }
   ],
   "source": [
    "# create and object of linear regression\n",
    "poly_reg = LinearRegression(fit_intercept=False)\n",
    "# fit the model\n",
    "poly_reg.fit(x_train_poly, y_train)\n",
    "# predict on test set\n",
    "y_preds = poly_reg.predict(x_test_poly)\n",
    "# calculate mean squared error on test set\n",
    "test_mse = mean_squared_error(y_test, y_preds)\n",
    "\n",
    "# print test mse\n",
    "print(f\"Test MSE with degree 8: {test_mse}\")"
   ]
  },
  {
   "cell_type": "code",
   "execution_count": 21,
   "metadata": {
    "ExecuteTime": {
     "end_time": "2020-10-02T13:04:11.662832Z",
     "start_time": "2020-10-02T13:04:11.298483Z"
    },
    "scrolled": true
   },
   "outputs": [
    {
     "data": {
      "image/png": "[encoded data removed]",
      "text/plain": [
       "<Figure size 720x360 with 1 Axes>"
      ]
     },
     "metadata": {
      "needs_background": "light"
     },
     "output_type": "display_data"
    }
   ],
   "source": [
    "# plot true data and predicted data\n",
    "plt.figure(figsize=(10, 5))\n",
    "plt.scatter(x_test, y_test, label=\"True data\")\n",
    "plt.scatter(x_test, y_preds, label=\"Predicted data\")\n",
    "plt.title(\"True data and predicted data\")\n",
    "plt.xlabel(\"Spreading Factor\")\n",
    "plt.ylabel(\"Population Change\")\n",
    "plt.legend()\n",
    "plt.show()"
   ]
  },
  {
   "cell_type": "markdown",
   "metadata": {},
   "source": [
    "### 3.3"
   ]
  },
  {
   "cell_type": "code",
   "execution_count": 22,
   "metadata": {
    "ExecuteTime": {
     "end_time": "2020-10-02T13:04:12.563991Z",
     "start_time": "2020-10-02T13:04:11.662832Z"
    }
   },
   "outputs": [
    {
     "name": "stdout",
     "output_type": "stream",
     "text": [
      "The beta0 confidence interval is [2.082 2.399]\n",
      "The beta1 confidence interval is [1.684 1.98 ]\n"
     ]
    }
   ],
   "source": [
    "# calculate and plot confidence interval\n",
    "# create a bootstrap function\n",
    "def bootstrap(df):\n",
    "    indices = np.random.randint(len(df), size=len(df))\n",
    "    new_df = df.iloc[indices]\n",
    "    return new_df\n",
    "\n",
    "# create a list of beta values using 200 bootstrap\n",
    "beta0_list, beta1_list = [], []\n",
    "\n",
    "bootstraps = 200\n",
    "\n",
    "for i in range(bootstraps):\n",
    "    df_new = bootstrap(df)\n",
    "    \n",
    "    # calculating mean of predictor and response variable\n",
    "    xmean = df_new.Spreading_factor.mean()\n",
    "    ymean = df_new.Perc_population.mean()\n",
    "    \n",
    "    beta1 = (((df_new.Spreading_factor - xmean)*(df_new.Perc_population - ymean)).sum())/(((df_new.Spreading_factor - xmean)**2).sum())\n",
    "    beta0 = ymean - (beta1*xmean)\n",
    "    \n",
    "    beta0_list.append(beta0)\n",
    "    beta1_list.append(beta1)\n",
    "    \n",
    "# sort the beta lists in ascending\n",
    "beta0_list.sort()\n",
    "beta1_list.sort()\n",
    "\n",
    "# calculate 95% confidence interval\n",
    "beta0_ci = (np.percentile(beta0_list, 2.5), np.percentile(beta0_list, 97.5))\n",
    "beta1_ci = (np.percentile(beta1_list, 2.5), np.percentile(beta1_list, 97.5))\n",
    "\n",
    "# display confidence intervals\n",
    "print(f\"The beta0 confidence interval is {np.round(beta0_ci, 3)}\")\n",
    "print(f\"The beta1 confidence interval is {np.round(beta1_ci, 3)}\")"
   ]
  },
  {
   "cell_type": "code",
   "execution_count": 23,
   "metadata": {
    "ExecuteTime": {
     "end_time": "2020-10-02T13:04:13.061502Z",
     "start_time": "2020-10-02T13:04:12.571984Z"
    }
   },
   "outputs": [
    {
     "data": {
      "image/png": "[encoded data removed]",
      "text/plain": [
       "<Figure size 720x360 with 1 Axes>"
      ]
     },
     "metadata": {
      "needs_background": "light"
     },
     "output_type": "display_data"
    }
   ],
   "source": [
    "# function to plot CI\n",
    "def plot_ci(beta_list, conf):\n",
    "    plt.figure(figsize=(10, 5))\n",
    "    plt.hist(beta_list, bins=40, label = \"Beta Distribution\", density=True)\n",
    "    plt.axvline(conf[0], color='red', label=\"Right Interval\")\n",
    "    plt.axvline(conf[1], color='red', label=\"Left Interval\")\n",
    "    plt.xlabel(\"Beta value\")\n",
    "    plt.ylabel(\"Frequency\")\n",
    "    plt.title(\"Confidence Interval\")\n",
    "    plt.legend()\n",
    "    plt.show()\n",
    "\n",
    "# plot beta0 distribution and confidence intervals\n",
    "plot_ci(beta0_list, beta0_ci)"
   ]
  },
  {
   "cell_type": "code",
   "execution_count": 24,
   "metadata": {
    "ExecuteTime": {
     "end_time": "2020-10-02T13:04:13.707763Z",
     "start_time": "2020-10-02T13:04:13.069419Z"
    }
   },
   "outputs": [
    {
     "data": {
      "image/png": "[encoded data removed]",
      "text/plain": [
       "<Figure size 720x360 with 1 Axes>"
      ]
     },
     "metadata": {
      "needs_background": "light"
     },
     "output_type": "display_data"
    }
   ],
   "source": [
    "# plot beta1 distribution and confidence intervals\n",
    "plot_ci(beta1_list, beta1_ci)"
   ]
  },
  {
   "cell_type": "markdown",
   "metadata": {},
   "source": [
    "<div class=\"alert alert-block alert-danger\" style=\"color:black;background-color:#E7F4FA\">\n",
    "<h2 style=\"color:black;background-color:#E7F4FA\"> Part 4 </h2>    <br /><br />\n",
    "<b> Question 4:   Finding the best model by k-fold cross-validation [15 points total]</b>\n",
    "<br /><br />\n",
    "<b>4.1</b> [5 pts] In this part we find the best degree of the polynomial regression by running the model on a range of degree values and using k-fold cross validation. Use the `bacteria_train.csv` to train the model and `bacteria_test.csv` to test the model.\n",
    "<br /><br />\n",
    "<b>Instructions</b><br />\n",
    "- Select the max degree for computing the polynomial features. <br />\n",
    "- For each degree in this range perform the following:<br />\n",
    "    - Compute the polynomial features for the data.<br />\n",
    "    - Perform k-fold cross validation with k=10<br />\n",
    "    - Compute the polynomial features for the data.<br />\n",
    "    - Compute the $MSE$ of the train and validation data and store in separate lists. <br />\n",
    "- Print the train and validation MSE along with the degree of the best model. To do this find the degree that gives the lowest MSE.\n",
    "<br />\n",
    "-Plot the train and validation score with respect to the degrees. Also indicate the mean+standard deviation and mean-standard deviation in the graph.\n",
    "<br />\n",
    "\n",
    "<b> Hints </b><br />\n",
    "* Limit the maximum degree to 50. *<br />\n",
    "\n",
    "* Use sklearn `cross_validate()` to perform cross validation. *<br /><br />\n",
    "\n",
    "**4.2** [5 pts] Fitting the best model on the test data and compute the $MSE$ on the test set.<br /><br />\n",
    "\n",
    "**Instructions**<br />\n",
    "- For the best degree computed above, compute the polynomial features for the data in the test csv file.<br />\n",
    "- Train on the entire data from the train csv file and predict on the test data.<br />\n",
    "- Report the $MSE$ for the fitted models on both the training and test sets. <br />\n",
    "- Make a scatter plot of `Spread factor` vs. `Precentage change in population` for the specified degree.  The figure should have plot of the test prediction from the regression and the actual values on the same figure. Plot the fit curve for the best model.<br />\n",
    "- Print the coefficients of the model.<br /><br />\n",
    "\n",
    "**Hints**<br />\n",
    "* Sort the $x$ values before making your plots.*\n",
    "<br /><br />\n",
    "\n",
    "**Why this maybe a good idea?**<br />\n",
    "\n",
    "- Avoids the dependence on the particular choice of a validation set<br /><br />\n",
    "\n",
    "**Why this maybe a bad idea?**<br />\n",
    "\n",
    "- The size of the dataset restricts the choice of the number of folds<br />\n",
    "- Computationally more intensive<br /><br />\n",
    "    \n",
    "</div>"
   ]
  },
  {
   "cell_type": "markdown",
   "metadata": {},
   "source": [
    "### Solutions"
   ]
  },
  {
   "cell_type": "markdown",
   "metadata": {},
   "source": [
    "### 4.1"
   ]
  },
  {
   "cell_type": "markdown",
   "metadata": {},
   "source": [
    " Select the max degree for computing the polynomial features.\n",
    "- For each degree in this range perform the following:\n",
    "- Compute the polynomial features for the data.\n",
    "- Perform k-fold cross validation with k=10\n",
    "- Compute the polynomial features for the data.\n",
    "- Compute the  𝑀𝑆𝐸  of the train and validation data and store in separate lists.\n",
    "- Print the train and validation MSE along with the degree of the best model. To do this find the degree that gives the lowest MSE.\n",
    "-Plot the train and validation score with respect to the degrees. Also indicate the mean+standard deviation and mean-standard deviation in the graph."
   ]
  },
  {
   "cell_type": "code",
   "execution_count": 25,
   "metadata": {
    "ExecuteTime": {
     "end_time": "2020-10-02T13:04:13.739643Z",
     "start_time": "2020-10-02T13:04:13.711752Z"
    }
   },
   "outputs": [],
   "source": [
    "# assign training and test set\n",
    "x_train = train_df[['Spreading_factor']]\n",
    "y_train = train_df.Perc_population\n",
    "\n",
    "x_test = test_df[['Spreading_factor']]\n",
    "y_test = test_df.Perc_population\n",
    "\n",
    "# create empty lists to save train and validation error\n",
    "training_error, validation_error = [], []\n"
   ]
  },
  {
   "cell_type": "code",
   "execution_count": 26,
   "metadata": {
    "ExecuteTime": {
     "end_time": "2020-10-02T13:04:14.985652Z",
     "start_time": "2020-10-02T13:04:13.744754Z"
    }
   },
   "outputs": [],
   "source": [
    "# define max degree\n",
    "max_deg = 30\n",
    "\n",
    "for i in range(max_deg):\n",
    "    x_train_poly = PolynomialFeatures(i).fit_transform(x_train)\n",
    "    scores = cross_validate(LinearRegression(fit_intercept=False), x_train_poly, y_train, scoring='neg_mean_squared_error', \n",
    "                            cv=10, return_train_score=True)\n",
    "    \n",
    "    # append training and validation errors\n",
    "    training_error.append(-np.mean(scores['train_score']))\n",
    "    validation_error.append(-np.mean(scores['test_score']))"
   ]
  },
  {
   "cell_type": "code",
   "execution_count": 27,
   "metadata": {
    "ExecuteTime": {
     "end_time": "2020-10-02T13:04:15.235151Z",
     "start_time": "2020-10-02T13:04:14.989582Z"
    }
   },
   "outputs": [
    {
     "ename": "NameError",
     "evalue": "name 'best_deg' is not defined",
     "output_type": "error",
     "traceback": [
      "\u001b[1;31m---------------------------------------------------------------------------\u001b[0m",
      "\u001b[1;31mNameError\u001b[0m                                 Traceback (most recent call last)",
      "\u001b[1;32m<ipython-input-27-ea0be5e3b61c>\u001b[0m in \u001b[0;36m<module>\u001b[1;34m\u001b[0m\n\u001b[0;32m      2\u001b[0m \u001b[0mbest_deg_test\u001b[0m \u001b[1;33m=\u001b[0m \u001b[0mnp\u001b[0m\u001b[1;33m.\u001b[0m\u001b[0margmin\u001b[0m\u001b[1;33m(\u001b[0m\u001b[0mvalidation_error\u001b[0m\u001b[1;33m)\u001b[0m\u001b[1;33m\u001b[0m\u001b[1;33m\u001b[0m\u001b[0m\n\u001b[0;32m      3\u001b[0m \u001b[0mbest_deg_train\u001b[0m \u001b[1;33m=\u001b[0m \u001b[0mnp\u001b[0m\u001b[1;33m.\u001b[0m\u001b[0margmin\u001b[0m\u001b[1;33m(\u001b[0m\u001b[0mtraining_error\u001b[0m\u001b[1;33m)\u001b[0m\u001b[1;33m\u001b[0m\u001b[1;33m\u001b[0m\u001b[0m\n\u001b[1;32m----> 4\u001b[1;33m \u001b[0mprint\u001b[0m\u001b[1;33m(\u001b[0m\u001b[1;34mf\"Best degree: {best_deg}\"\u001b[0m\u001b[1;33m)\u001b[0m\u001b[1;33m\u001b[0m\u001b[1;33m\u001b[0m\u001b[0m\n\u001b[0m\u001b[0;32m      5\u001b[0m \u001b[0mprint\u001b[0m\u001b[1;33m(\u001b[0m\u001b[1;34mf\"Train MSE for best degree {best_deg_train}: {training_error[best_deg_train]}\"\u001b[0m\u001b[1;33m)\u001b[0m\u001b[1;33m\u001b[0m\u001b[1;33m\u001b[0m\u001b[0m\n\u001b[0;32m      6\u001b[0m \u001b[0mprint\u001b[0m\u001b[1;33m(\u001b[0m\u001b[1;34mf\"Validation MSE for best degree {best_deg_test}: {validation_error[best_deg_test]}\"\u001b[0m\u001b[1;33m)\u001b[0m\u001b[1;33m\u001b[0m\u001b[1;33m\u001b[0m\u001b[0m\n",
      "\u001b[1;31mNameError\u001b[0m: name 'best_deg' is not defined"
     ]
    }
   ],
   "source": [
    "# print results\n",
    "best_deg_test = np.argmin(validation_error)\n",
    "best_deg_train = np.argmin(training_error)\n",
    "print(f\"Best degree: {best_deg}\")\n",
    "print(f\"Train MSE for best degree {best_deg_train}: {training_error[best_deg_train]}\")\n",
    "print(f\"Validation MSE for best degree {best_deg_test}: {validation_error[best_deg_test]}\")"
   ]
  },
  {
   "cell_type": "code",
   "execution_count": null,
   "metadata": {
    "ExecuteTime": {
     "end_time": "2020-10-02T13:04:15.235151Z",
     "start_time": "2020-10-02T13:04:07.294Z"
    }
   },
   "outputs": [],
   "source": [
    "# plot training and validation error along with degree\n",
    "plt.figure(figsize=(10, 6))\n",
    "plt.errorbar(range(30), training_error, label=\"Traning error\")\n",
    "plt.plot(range(30), validation_error, label=\"Validation error\")\n",
    "plt.axvline(best_deg_test, color='r', label=\"best degree(test)\")\n",
    "plt.axvline(best_deg_train, color='g', label=\"best degree(train)\")\n",
    "plt.ylim((2, 8))\n",
    "plt.xlabel(\"Degree\")\n",
    "plt.ylabel(\"Error\")\n",
    "plt.title(\"Training and Validation MSE with different degrees\")\n",
    "plt.legend()\n",
    "plt.show()"
   ]
  },
  {
   "cell_type": "code",
   "execution_count": null,
   "metadata": {
    "ExecuteTime": {
     "end_time": "2020-10-02T13:04:15.239153Z",
     "start_time": "2020-10-02T13:04:07.297Z"
    }
   },
   "outputs": [],
   "source": [
    "# Print the best degree\n",
    "print(\"The best degree that gives the lowest validation error is:\", best_deg[0])\n"
   ]
  },
  {
   "cell_type": "markdown",
   "metadata": {},
   "source": [
    "### 4.2"
   ]
  },
  {
   "cell_type": "markdown",
   "metadata": {},
   "source": [
    "**Instructions**<br />\n",
    "- For the best degree computed above, compute the polynomial features for the data in the test csv file.<br />\n",
    "- Train on the entire data from the train csv file and predict on the test data.<br />\n",
    "- Report the $MSE$ for the fitted models on both the training and test sets. <br />\n",
    "- Make a scatter plot of `Spread factor` vs. `Precentage change in population` for the specified degree.  The figure should have plot of the test prediction from the regression and the actual values on the same figure. Plot the fit curve for the best model.<br />\n",
    "- Print the coefficients of the model.<br /><br />"
   ]
  },
  {
   "cell_type": "code",
   "execution_count": null,
   "metadata": {
    "ExecuteTime": {
     "end_time": "2020-10-02T13:04:15.239153Z",
     "start_time": "2020-10-02T13:04:07.301Z"
    }
   },
   "outputs": [],
   "source": [
    "# Compute the polynomial features\n",
    "x_train_poly = PolynomialFeatures(best_degree[0]).fit_transform(x_train)\n",
    "x_test_poly = PolynomialFeatures(best_degree[0]).fit_transform(x_test)\n",
    "\n",
    "lreg = LinearRegression(fit_intercept=False)\n",
    "lreg.fit(x_train_poly, y_train)\n",
    "train_pred = lreg.predict(x_train_poly)\n",
    "test_pred = lreg.predict(x_test_poly)\n",
    "train_mse = mean_squared_error(y_train, train_pred)\n",
    "test_mse = mean_squared_error(y_test, test_pred)"
   ]
  },
  {
   "cell_type": "code",
   "execution_count": null,
   "metadata": {
    "ExecuteTime": {
     "end_time": "2020-10-02T13:04:15.243154Z",
     "start_time": "2020-10-02T13:04:07.304Z"
    }
   },
   "outputs": [],
   "source": [
    "# Print the best MSE\n",
    "print(\"Train mse with degree 8:\", train_mse)\n",
    "print(\"Test mse with degree 8:\", test_mse)"
   ]
  },
  {
   "cell_type": "code",
   "execution_count": null,
   "metadata": {
    "ExecuteTime": {
     "end_time": "2020-10-02T13:04:15.243154Z",
     "start_time": "2020-10-02T13:04:07.307Z"
    }
   },
   "outputs": [],
   "source": [
    "# Make a scatter plot of Spread factor vs. Precentage change in population for the specified degree.\n",
    "plt.figure(figsize=(10, 5))\n",
    "plt.scatter(x_test, y_test, color='green', label=\"actual values\")\n",
    "plt.scatter(x_test, test_pred, color='red', label=\"predicted values\")\n",
    "plt.title(\"Plot of Spread factor vs. Precentage change in population for degree 8\")\n",
    "plt.xlabel(\"Spread factor\")\n",
    "plt.ylabel(\"Precentage change in populatio\")\n",
    "plt.legend()\n",
    "plt.show()"
   ]
  },
  {
   "cell_type": "code",
   "execution_count": null,
   "metadata": {
    "ExecuteTime": {
     "end_time": "2020-10-02T13:04:15.247153Z",
     "start_time": "2020-10-02T13:04:07.311Z"
    }
   },
   "outputs": [],
   "source": [
    "lreg.coef_"
   ]
  },
  {
   "cell_type": "code",
   "execution_count": null,
   "metadata": {
    "ExecuteTime": {
     "end_time": "2020-10-02T13:04:15.247153Z",
     "start_time": "2020-10-02T13:04:07.314Z"
    }
   },
   "outputs": [],
   "source": [
    "# coefficients of model\n",
    "print(\"Model Coefficients\")\n",
    "print(lreg.coef_)"
   ]
  },
  {
   "cell_type": "markdown",
   "metadata": {},
   "source": [
    "<div class=\"alert alert-block alert-danger\" style=\"color:black;background-color:#E7F4FA\">\n",
    "<h2 style=\"color:black;background-color:#E7F4FA\"> Part 5 </h2>    <br />\n",
    "\n",
    "<b> Question 5:   Finding the most <b>consistent</b> model; use k-fold cross validation along with Bootstraps [2 points total]</b><br />\n",
    "<br />\n",
    "\n",
    "\n",
    "\n",
    "**5.1** [1 pt] In the previous part, we used k-fold cross-validation to find the best model. But how confident are you of your estimated best degree? We have already used bootstraps earlier to estimate the confidence interval of our $\\beta_i$ values. In this segment, we will use *bootstrapping* to test the robustness of our estimation. As before, we use the `bacteria_train.csv` to train the model and `bacteria_test.csv` to test the model.\n",
    "<br /><br />\n",
    "**Instructions**<br />\n",
    "- Select the max degree for computing the polynomial features and number of bootstraps.<br />\n",
    "- Create bootstraps of the data. For each bootstrap perform the following:<br />\n",
    "    - For each degree in the range of max degree perform the following:<br />\n",
    "        - Compute the polynomial features for the data.<br />\n",
    "        - Perform k-fold cross validation with k=10<br />\n",
    "        - Compute the polynomial features for the data.<br />\n",
    "        - Compute the $MSE$ of the train and validation data and store in separate lists. <br />\n",
    "    - Select the degree for which the mean of the k-fold $MSE$ is the least.<br />\n",
    "    - Store the best degree in a list<br />\n",
    "- Plot a graph to show the frequency of the degree voted best for each bootstrap from the list from above steps.<br />\n",
    "- The degree voted best the most times can be selected as the best degree.<br />\n",
    "- Retrain on the entire test set and report the $MSE$ on the test set.<br />\n",
    "\n",
    "<br />\n",
    "\n",
    "**Hints**\n",
    "- Limit the maximum degree to 50.\n",
    "- Limit the number of bootstraps to 100.\n",
    "- Use sklearn `cross_validate()` to perform cross validation.\n",
    "\n",
    "<br /><br />\n",
    "**Why this maybe a good idea?**\n",
    "<br />\n",
    "- Further avoids the dependence on the particular choice of a validation set<br />\n",
    "- Allows for more analysis without data augmentation<br /><br />\n",
    "\n",
    "**Why this maybe a bad idea?**<br />\n",
    "\n",
    "- Computationally more intensive<br />\n",
    "- The stochasticity in the choice of bootstraps may give unexpected results<br /><br />\n",
    "\n",
    "**5.2** [0.5 pt] What are your observations? <br />\n",
    "\n",
    "- Why do you see so much variance in the `best_degree` over the bootstraps?<br />\n",
    "- What will you choose as your `best_degree` for the test set? <br /><br />\n",
    "\n",
    "**5.3** [0.5 pt] Fitting the best model on the test data<br /><br />\n",
    "\n",
    "**Instructions**<br />\n",
    "- For the best degree computed above, compute the polynomial features for the data in the test csv file.<br />\n",
    "- Train on the entire data from the train csv file and predict on the test data.<br />\n",
    "- Print the MSE of the model <br />\n",
    "- Make a scatter plot of `Spread factor` vs. `Precentage change in population` for the specified degree.  The figure should have plot of the test prediction from the regression and the actual values on the same figure. Plot the fit curve as well.<br />\n",
    "- Print the coefficients of the model<br /><br />\n",
    "\n",
    "**Hint**<br />\n",
    "* Sort the $x$ values before making your plots.\n",
    "    \n",
    "    \n",
    "</div>"
   ]
  },
  {
   "cell_type": "markdown",
   "metadata": {},
   "source": [
    "### Solutions"
   ]
  },
  {
   "cell_type": "markdown",
   "metadata": {},
   "source": [
    "### 5.1"
   ]
  },
  {
   "cell_type": "markdown",
   "metadata": {},
   "source": [
    "**Instructions**<br />\n",
    "- Select the max degree for computing the polynomial features and number of bootstraps.<br />\n",
    "- Create bootstraps of the data. For each bootstrap perform the following:<br />\n",
    "    - For each degree in the range of max degree perform the following:<br />\n",
    "        - Compute the polynomial features for the data.<br />\n",
    "        - Perform k-fold cross validation with k=10<br />\n",
    "        - Compute the polynomial features for the data.<br />\n",
    "        - Compute the $MSE$ of the train and validation data and store in separate lists. <br />\n",
    "    - Select the degree for which the mean of the k-fold $MSE$ is the least.<br />\n",
    "    - Store the best degree in a list<br />\n",
    "- Plot a graph to show the frequency of the degree voted best for each bootstrap from the list from above steps.<br />\n",
    "- The degree voted best the most times can be selected as the best degree.<br />\n",
    "- Retrain on the entire test set and report the $MSE$ on the test set.<br />\n",
    "\n",
    "<br />\n",
    "\n",
    "**Hints**\n",
    "- Limit the maximum degree to 50.\n",
    "- Limit the number of bootstraps to 100.\n",
    "- Use sklearn `cross_validate()` to perform cross validation."
   ]
  },
  {
   "cell_type": "code",
   "execution_count": null,
   "metadata": {
    "ExecuteTime": {
     "end_time": "2020-10-02T13:04:15.251153Z",
     "start_time": "2020-10-02T13:04:07.322Z"
    }
   },
   "outputs": [],
   "source": [
    "# Read the dataset\n",
    "train_df = pd.read_csv('data/bacteria_train.csv')\n",
    "test_df = pd.read_csv('data/bacteria_test.csv')\n",
    "\n",
    "numboots = 100\n",
    "max_deg = 50\n",
    "best_degrees = []"
   ]
  },
  {
   "cell_type": "code",
   "execution_count": null,
   "metadata": {
    "ExecuteTime": {
     "end_time": "2020-10-02T13:04:15.251153Z",
     "start_time": "2020-10-02T13:04:07.325Z"
    }
   },
   "outputs": [],
   "source": [
    "# Bootstrap first & then find the best degree\n",
    "for i in range(numboots):\n",
    "    df = train_df.sample(frac=1, replace=True)\n",
    "    x = df[['Spreading_factor']]\n",
    "    y = df.Perc_population\n",
    "    train_mse, test_mse = [], []\n",
    "    degree_loss = {}\n",
    "    \n",
    "    for d in range(max_deg):\n",
    "        x_poly = PolynomialFeatures(d).fit_transform(x)\n",
    "        scores = cross_validate(LinearRegression(fit_intercept=False), x_poly, y, scoring='neg_mean_squared_error',\n",
    "                                cv=10, return_train_score=True)\n",
    "        \n",
    "        # store train and validation MSE\n",
    "        train_mse.append(-np.mean(scores['train_score']))\n",
    "        test_mse.append(-np.mean(scores['test_score']))\n",
    "        \n",
    "        # store degree: validation_loss\n",
    "        degree_loss[d] = -np.mean(scores['test_score'])\n",
    "    # find best degree for which validation loss is minimum\n",
    "    best_deg = [d for d in degree_loss if degree_loss[d] == min(degree_loss.values())]\n",
    "    # store best degree in a list\n",
    "    best_degrees.append(best_deg[0])"
   ]
  },
  {
   "cell_type": "code",
   "execution_count": null,
   "metadata": {
    "ExecuteTime": {
     "end_time": "2020-10-02T13:04:15.255154Z",
     "start_time": "2020-10-02T13:04:07.331Z"
    }
   },
   "outputs": [],
   "source": [
    "len(best_degrees)"
   ]
  },
  {
   "cell_type": "code",
   "execution_count": null,
   "metadata": {
    "ExecuteTime": {
     "end_time": "2020-10-02T13:04:15.255154Z",
     "start_time": "2020-10-02T13:04:07.334Z"
    }
   },
   "outputs": [],
   "source": [
    "# create a new dictionary to store best degree and its frequency\n",
    "degree_freq = {}\n",
    "for d in best_degrees:\n",
    "    if d in degree_freq:\n",
    "        degree_freq[d] += 1\n",
    "    else:\n",
    "        degree_freq[d] = 1\n",
    "        \n",
    "# plot degree and its frequency\n",
    "plt.figure(figsize=(15, 6))\n",
    "plt.bar(degree_freq.keys(), degree_freq.values())\n",
    "plt.xticks(np.arange(0, 35, 1))\n",
    "plt.xlabel(\"Best Degree\")\n",
    "plt.ylabel(\"Frequency\")\n",
    "plt.title(\"Best degrees and their frequencies\")\n",
    "plt.show()"
   ]
  },
  {
   "cell_type": "code",
   "execution_count": null,
   "metadata": {
    "ExecuteTime": {
     "end_time": "2020-10-02T13:04:15.255154Z",
     "start_time": "2020-10-02T13:04:07.337Z"
    }
   },
   "outputs": [],
   "source": [
    "# assign predictor and response variable for test set\n",
    "x_test = test_df[['Spreading_factor']]\n",
    "y_test = test_df.Perc_population\n",
    "\n",
    "# transform using best degree found above\n",
    "x_test_poly = PolynomialFeatures(8).fit_transform(x_test)\n",
    "\n",
    "# fit polynomial regression\n",
    "lreg = LinearRegression(fit_intercept=False)\n",
    "lreg.fit(x_test_poly, y_test)\n",
    "test_pred = lreg.predict(x_test_poly)\n",
    "test_mse = mean_squared_error(y_test, test_pred)\n",
    "print(\"Test mse with degree 1:\", test_mse)"
   ]
  },
  {
   "cell_type": "markdown",
   "metadata": {},
   "source": [
    "### 5.2"
   ]
  },
  {
   "cell_type": "markdown",
   "metadata": {},
   "source": [
    "**1. The variance in best degree is because of the use of bootstrap that gives us different kind of data in different iterations. Also bootstrap can choose same instance multiple times.**\n",
    "\n",
    "**2. I will choose that degree for the test set, whichever has got the most vote (degree with highest vote frequency).**\n"
   ]
  },
  {
   "cell_type": "markdown",
   "metadata": {},
   "source": [
    "### 5.3"
   ]
  },
  {
   "cell_type": "code",
   "execution_count": null,
   "metadata": {
    "ExecuteTime": {
     "end_time": "2020-10-02T13:04:15.259155Z",
     "start_time": "2020-10-02T13:04:07.342Z"
    }
   },
   "outputs": [],
   "source": [
    "# assign training and test set\n",
    "x_train = train_df[['Spreading_factor']]\n",
    "y_train = train_df.Perc_population\n",
    "\n",
    "x_test = test_df[['Spreading_factor']]\n",
    "y_test = test_df.Perc_population"
   ]
  },
  {
   "cell_type": "code",
   "execution_count": null,
   "metadata": {
    "ExecuteTime": {
     "end_time": "2020-10-02T13:04:15.259155Z",
     "start_time": "2020-10-02T13:04:07.345Z"
    }
   },
   "outputs": [],
   "source": [
    "# Select the best degree from the above exercise\n",
    "best_degree = 8"
   ]
  },
  {
   "cell_type": "code",
   "execution_count": null,
   "metadata": {
    "ExecuteTime": {
     "end_time": "2020-10-02T13:04:15.263156Z",
     "start_time": "2020-10-02T13:04:07.348Z"
    }
   },
   "outputs": [],
   "source": [
    "# Compute the polynomial features\n",
    "\n",
    "x_train_poly = PolynomialFeatures(8).fit_transform(x_train)\n",
    "x_test_poly = PolynomialFeatures(8).fit_transform(x_test)"
   ]
  },
  {
   "cell_type": "code",
   "execution_count": null,
   "metadata": {
    "ExecuteTime": {
     "end_time": "2020-10-02T13:04:15.263156Z",
     "start_time": "2020-10-02T13:04:07.351Z"
    }
   },
   "outputs": [],
   "source": [
    "# Print the mse of the best model\n",
    "lreg = LinearRegression(fit_intercept=False)\n",
    "lreg.fit(x_train_poly, y_train)\n",
    "train_pred = lreg.predict(x_train_poly)\n",
    "test_pred = lreg.predict(x_test_poly)\n",
    "train_mse = mean_squared_error(y_train, train_pred)\n",
    "test_mse = mean_squared_error(y_test, test_pred)\n",
    "print(\"Test mse with degree 8:\", test_mse)\n",
    "print(\"Train mse with degree 8:\", train_mse)"
   ]
  },
  {
   "cell_type": "code",
   "execution_count": null,
   "metadata": {
    "ExecuteTime": {
     "end_time": "2020-10-02T13:04:15.267154Z",
     "start_time": "2020-10-02T13:04:07.357Z"
    }
   },
   "outputs": [],
   "source": [
    "# Make a scatter plot of Spread factor vs. Precentage change in population for the specified degree.\n",
    "# sort data for beter visualization\n",
    "x_test.values.sort(axis=0)\n",
    "y_test.values.sort(axis=0)\n",
    "test_pred.sort()\n",
    "\n",
    "plt.figure(figsize=(10, 5))\n",
    "plt.scatter(x_test, y_test, color='green', label=\"actual values\")\n",
    "plt.scatter(x_test, test_pred, color='red', label=\"predicted values\")\n",
    "plt.plot(x_test, test_pred, color='black', label=\"fit curve\")\n",
    "plt.title(\"Plot of Spread factor vs. Precentage change in population for degree 8\")\n",
    "plt.xlabel(\"Spread factor\")\n",
    "plt.ylabel(\"Precentage change in populatio\")\n",
    "plt.legend()\n",
    "plt.show()"
   ]
  },
  {
   "cell_type": "code",
   "execution_count": null,
   "metadata": {
    "ExecuteTime": {
     "end_time": "2020-10-02T13:04:15.271149Z",
     "start_time": "2020-10-02T13:04:07.360Z"
    }
   },
   "outputs": [],
   "source": [
    "# coefficients of model\n",
    "print(\"Model Coefficients\")\n",
    "print(lreg.coef_)"
   ]
  },
  {
   "cell_type": "markdown",
   "metadata": {},
   "source": [
    "<div class=\"alert alert-block alert-danger\" style=\"color:black;background-color:#E7F4FA\">\n",
    "<h2 style=\"color:black;background-color:#E7F4FA\"> Part 6 </h2>    <br />\n",
    "<b> Question 6:   Improving model consistency [30 points total]</b>\n",
    "<br /><br />\n",
    "In the previous section, we compared **30** polynomial models to find the best degree. For each model of degree n, we considered all polynomial coefficients *up to* **degree `n`** using `Polynomial_features`. However, our **best model** could have been from any possible combination of the **30** degrees chosen.\n",
    "<br />\n",
    "For eg. a model with degrees `1,2,4,6`\n",
    "<br />\n",
    "The total number of such possible models is $2^{30}\\approx10^9$ and searching through all of them would be laborious and computationally inefficient. Instead, we can use $Lasso$ Regularisation which *switches off* highly unstable degree coefficients and gives us the most efficient solution.\n",
    "<br /><br />\n",
    "\n",
    "**6.1** [10 pts] Find the best hyper-parameter `alpha`<br />\n",
    "\n",
    "First, we will use `cross_validation` to find the the best regularisation parameter `alpha`. As before, we use the `bacteria_train.csv` for cross validation.\n",
    "<br /><br />\n",
    "**NOTE**: You are free to experiment with the values of alpha. Our suggestion is to use in powers of 10 from $10^{-3}$ to $10^{3}$\n",
    "<br /><br />\n",
    "** Instructions**<br />\n",
    "- Select the max degree of the polynomial, and make a list of `alpha` values.<br />\n",
    "- For each value of `alpha`:<br />\n",
    "    - Compute the polynomial features for the data.<br />\n",
    "    - Create a `Lasso` regularisation model with the value of `alpha`<br />\n",
    "    - Perform k-fold cross validation with k=10 using `Lasso` as model.<br />\n",
    "    - Compute the $MSE$ of the train and validation data and store in separate lists. <br />\n",
    "- Select the `alpha` for which the mean of the k-fold $MSE$ is the least.<br />\n",
    "- Store the previously selected values as `best alpha` & print it.<br />\n",
    "\n",
    "<br /><br />\n",
    "\n",
    "** Hints**<br />\n",
    "- Limit the maximum degree to 30.<br />\n",
    "- Take at least three different values of alpha.<br />\n",
    "- Use sklearn `cross_validate()` to perform cross validation.<br /><br />\n",
    "\n",
    "**6.2** [10 pts] Find the most significant degrees.<br />\n",
    "\n",
    "From the previous section, you will now have the `best_alpha` hyperparameter. Now, we will use this to find the most significant degrees over a given number of bootstraps. What we mean by the above is this:<br />\n",
    "\n",
    "For each bootstrap of the data, you will get some degrees that are **significant** ($\\mid\\beta_i\\mid \\lt 0.1 $). You would like to see, which degree coefficients are significant over several such iterations.<br />\n",
    "\n",
    "As before, we use the `bacteria_train.csv` for cross validation.<br /><br />\n",
    "\n",
    "NOTE: You are free to experiment with the number of bootstraps.<br /><br />\n",
    "\n",
    "\n",
    "**Instructions**<br />\n",
    "- Make a dictionary called `significant_degrees` to store count of degrees for each bootstrap.<br />\n",
    "- For each bootstrap:<br />\n",
    "    - Take a sample the dataframe with `frac=1`.<br />\n",
    "    - Train a **Lasso** model with the `best_alpha` computed above.<br />\n",
    "    - Find the most significant polynomial coefficients using ($\\mid\\beta_i\\mid \\lt 0.1 $).<br />\n",
    "    - For each significant degree, update the count of that degree in `significant_degrees` .<br />\n",
    "- Plot the count of degrees for each bootstrap as a bar plot.<br /><br />\n",
    "\n",
    "\n",
    "**Hints**<br />\n",
    "- Limit the maximum degree to 30.<br />\n",
    "- Take at least three different values of alpha.<br />\n",
    "- Use sklearn `cross_validate()` to perform cross validation.<br /><br />\n",
    "\n",
    "**6.3** [5 pts] Compute the MSE on the test set<br />\n",
    "\n",
    "Now, from the previous plot, you can see that only degrees upto 6 are consistently significant over several bootstraps. You will now retrain the *L1* regularised model on the entire data and find the test $MSE$<br /><br />\n",
    "\n",
    "**Instructions**<br />\n",
    "\n",
    "- Retrain the *regularised* model with *most frequent degree (most significant highest degree)* on the entire test set and report the $MSE$ on the test set.<br />\n",
    "- Find the degrees of the polynomial that have cofficients with absolute value greater than 0.1<br />\n",
    "- Compare the test $MSE$ computed in section 3, to the previous section and report your observations.<br />\n",
    "- Plot a graph indicating your true and predicted data.<br />\n",
    "\n",
    "**6.4** [5 pts] What are your Observations?<br />\n",
    "\n",
    "- Is the `best_degree` computed above more consistent over the bootstraps? Why?<br />\n",
    "- Which degree coefficients in your best fit model from above are significant? Why only some?<br />\n",
    "- Is your test $MSE$ with regularisation comparable to the findings from previous section. If more, or less, by how much?<br />\n",
    "- Is your current model more reliable? On what basis do you claim its robustness?<br />\n",
    "    \n",
    "    \n",
    "</div>"
   ]
  },
  {
   "cell_type": "markdown",
   "metadata": {},
   "source": [
    "### Solutions"
   ]
  },
  {
   "cell_type": "markdown",
   "metadata": {},
   "source": [
    "### 6.1"
   ]
  },
  {
   "cell_type": "markdown",
   "metadata": {},
   "source": [
    "** Instructions**<br />\n",
    "- Select the max degree of the polynomial, and make a list of `alpha` values.<br />\n",
    "- For each value of `alpha`:<br />\n",
    "    - Compute the polynomial features for the data.<br />\n",
    "    - Create a `Lasso` regularisation model with the value of `alpha`<br />\n",
    "    - Perform k-fold cross validation with k=10 using `Lasso` as model.<br />\n",
    "    - Compute the $MSE$ of the train and validation data and store in separate lists. <br />\n",
    "- Select the `alpha` for which the mean of the k-fold $MSE$ is the least.<br />\n",
    "- Store the previously selected values as `best alpha` & print it.<br />"
   ]
  },
  {
   "cell_type": "code",
   "execution_count": null,
   "metadata": {
    "ExecuteTime": {
     "end_time": "2020-10-02T13:04:15.271149Z",
     "start_time": "2020-10-02T13:04:07.366Z"
    }
   },
   "outputs": [],
   "source": [
    "# assign predictor and response variable\n",
    "x_train = train_df[['Spreading_factor']]\n",
    "y_train = train_df.Perc_population\n",
    "\n",
    "alphas = [1e-3, 1e-2, 1e+1, 1e+2, 1e+3]\n",
    "max_degrees = 30\n",
    "best_alphas = []\n",
    "alpha_mse = {}\n",
    "train_errorr, val_error = [], []\n",
    "\n",
    "x_poly_train = PolynomialFeatures(max_degree).fit_transform(x_train)\n",
    "\n",
    "for alpha in alphas:\n",
    "\n",
    "    lasso = Lasso(alpha=alpha, max_iter=10000, normalize=True)\n",
    "    scores = cross_validate(lasso, x_poly_train, y_train, scoring='neg_mean_squared_error', cv=10,\n",
    "                            return_train_score=True)\n",
    "    train_mse = np.mean(-scores['train_score'])\n",
    "    val_mse = np.mean(-scores['test_score'])\n",
    "\n",
    "    train_error.append(train_mse)\n",
    "    val_error.append(val_mse)\n",
    "\n",
    "    alpha_mse[alpha] = val_mse\n",
    "\n",
    "\n",
    "best_alpha = [a for a in alpha_mse if alpha_mse[a] == min(alpha_mse.values())]"
   ]
  },
  {
   "cell_type": "code",
   "execution_count": null,
   "metadata": {
    "ExecuteTime": {
     "end_time": "2020-10-02T13:04:15.275155Z",
     "start_time": "2020-10-02T13:04:07.369Z"
    }
   },
   "outputs": [],
   "source": [
    "# best alpha with min validation mse\n",
    "print(f\"The best alpha is: {best_alpha[0]} with validation MSE of: {min(val_error)}\")"
   ]
  },
  {
   "cell_type": "markdown",
   "metadata": {},
   "source": [
    "### 6.2"
   ]
  },
  {
   "cell_type": "markdown",
   "metadata": {},
   "source": [
    "**Instructions**<br />\n",
    "- Make a dictionary called `significant_degrees` to store count of degrees for each bootstrap.<br />\n",
    "- For each bootstrap:<br />\n",
    "    - Take a sample the dataframe with `frac=1`.<br />\n",
    "    - Train a **Lasso** model with the `best_alpha` computed above.<br />\n",
    "    - Find the most significant polynomial coefficients using ($\\mid\\beta_i\\mid \\lt 0.1 $).<br />\n",
    "    - For each significant degree, update the count of that degree in `significant_degrees` .<br />\n",
    "- Plot the count of degrees for each bootstrap as a bar plot.<br /><br />\n",
    "\n",
    "\n",
    "**Hints**<br />\n",
    "- Limit the maximum degree to 30.<br />\n",
    "- Take at least three different values of alpha.<br />\n",
    "- Use sklearn `cross_validate()` to perform cross validation.<br /><br />\n"
   ]
  },
  {
   "cell_type": "code",
   "execution_count": null,
   "metadata": {
    "ExecuteTime": {
     "end_time": "2020-10-02T13:04:15.275155Z",
     "start_time": "2020-10-02T13:04:07.373Z"
    }
   },
   "outputs": [],
   "source": [
    "# make a dictionary\n"
   ]
  },
  {
   "cell_type": "code",
   "execution_count": null,
   "metadata": {
    "ExecuteTime": {
     "end_time": "2020-10-02T13:04:15.279153Z",
     "start_time": "2020-10-02T13:04:07.376Z"
    }
   },
   "outputs": [],
   "source": [
    "# your code here\n"
   ]
  },
  {
   "cell_type": "markdown",
   "metadata": {},
   "source": [
    "### 6.3"
   ]
  },
  {
   "cell_type": "code",
   "execution_count": null,
   "metadata": {
    "ExecuteTime": {
     "end_time": "2020-10-02T13:04:15.279153Z",
     "start_time": "2020-10-02T13:04:07.379Z"
    }
   },
   "outputs": [],
   "source": [
    "# your code here\n"
   ]
  },
  {
   "cell_type": "code",
   "execution_count": null,
   "metadata": {
    "ExecuteTime": {
     "end_time": "2020-10-02T13:04:15.283149Z",
     "start_time": "2020-10-02T13:04:07.383Z"
    }
   },
   "outputs": [],
   "source": [
    "# your code here\n"
   ]
  },
  {
   "cell_type": "code",
   "execution_count": null,
   "metadata": {
    "ExecuteTime": {
     "end_time": "2020-10-02T13:04:15.287151Z",
     "start_time": "2020-10-02T13:04:07.386Z"
    }
   },
   "outputs": [],
   "source": [
    "# your code here\n"
   ]
  },
  {
   "cell_type": "markdown",
   "metadata": {},
   "source": [
    "### 6.4"
   ]
  },
  {
   "cell_type": "markdown",
   "metadata": {},
   "source": [
    "**Your answer here**\n"
   ]
  },
  {
   "cell_type": "markdown",
   "metadata": {},
   "source": [
    "<div class=\"alert alert-block alert-danger\" style=\"color:black;background-color:#E7F4FA\">\n",
    "<h2 style=\"color:black;background-color:#E7F4FA\"> Part 7 </h2>    <br /><br />\n",
    "<b> Question 7:   Display your best test MSEs for each sub section of the homework [10 points total]</b>\n",
    "<br /><br />\n",
    "\n",
    "**7.1** [10 pts] Convert the dictionary used to store the best MSE values from each section of the homework into a pandas dataframe. \n",
    "<br /><br />\n",
    "- Take a look at how the $MSE$ values have varied throughout the homework and plot these $MSE$ values are a bar chart.\n",
    "</div>"
   ]
  },
  {
   "cell_type": "markdown",
   "metadata": {},
   "source": [
    "### Solutions"
   ]
  },
  {
   "cell_type": "markdown",
   "metadata": {},
   "source": [
    "### 7.1"
   ]
  },
  {
   "cell_type": "code",
   "execution_count": null,
   "metadata": {
    "ExecuteTime": {
     "end_time": "2020-10-02T13:04:15.287151Z",
     "start_time": "2020-10-02T13:04:07.392Z"
    }
   },
   "outputs": [],
   "source": [
    "# your code here\n"
   ]
  },
  {
   "cell_type": "code",
   "execution_count": null,
   "metadata": {
    "ExecuteTime": {
     "end_time": "2020-10-02T13:04:15.291149Z",
     "start_time": "2020-10-02T13:04:07.395Z"
    }
   },
   "outputs": [],
   "source": [
    "# your code here\n"
   ]
  }
 ],
 "metadata": {
  "kernelspec": {
   "display_name": "Python 3",
   "language": "python",
   "name": "python3"
  },
  "language_info": {
   "codemirror_mode": {
    "name": "ipython",
    "version": 3
   },
   "file_extension": ".py",
   "mimetype": "text/x-python",
   "name": "python",
   "nbconvert_exporter": "python",
   "pygments_lexer": "ipython3",
   "version": "3.7.8"
  }
 },
 "nbformat": 4,
 "nbformat_minor": 4
}
